{
 "cells": [
  {
   "cell_type": "code",
   "execution_count": 1,
   "metadata": {},
   "outputs": [],
   "source": [
    "import numpy as np\n",
    "np.set_printoptions(precision=2)\n",
    "import pandas as pd\n",
    "import matplotlib.pyplot as plt\n",
    "from scipy.stats import pearsonr\n",
    "from matplotlib.offsetbox import AnchoredText\n",
    "\n",
    "from scipy.stats import bootstrap #Need Scipy 1.8.0\n",
    "from scipy.stats import poisson"
   ]
  },
  {
   "cell_type": "code",
   "execution_count": 2,
   "metadata": {},
   "outputs": [],
   "source": [
    "#For formatting for interation.yamls\n",
    "def MatrixString(matrix):\n",
    "    string = \"[\"\n",
    "    for i in range(matrix.shape[0]):\n",
    "        string += \"[\"\n",
    "        for j in range(matrix.shape[1]):\n",
    "            string += \"%.2f\" % matrix[i,j]\n",
    "            if j < matrix.shape[1]-1:\n",
    "                string+=\",\"\n",
    "        string+=\"]\"\n",
    "        if i < matrix.shape[0]-1:\n",
    "                string+=\",\"\n",
    "    string+=\"]\"\n",
    "    return string\n",
    "\n",
    "def PolicyText(Type, contacts, contacts_err, proportional_physical, characteristic_time):\n",
    "    print(\"  %s:\" % Type)\n",
    "    print(\"    contacts: %s\" % MatrixString(contacts))\n",
    "    print(\"    contacts_err: %s\" % MatrixString(contacts_err))\n",
    "    print(\"    proportion_physical: %s\" % MatrixString(proportional_physical))\n",
    "    print(\"    characteristic_time: %.2f\" % characteristic_time)"
   ]
  },
  {
   "cell_type": "code",
   "execution_count": 3,
   "metadata": {},
   "outputs": [],
   "source": [
    "data_file = \"../../Downloaded_Items/UNHCR BGD 2020 Protection Measures COVID 19.csv\""
   ]
  },
  {
   "cell_type": "code",
   "execution_count": 4,
   "metadata": {},
   "outputs": [
    {
     "name": "stdout",
     "output_type": "stream",
     "text": [
      "Children are 0.5183661099373899% of population\n",
      "Adults are 0.48163389006261015% of population\n",
      "Men are 0.4845681932050298% of population\n",
      "Women are 0.5154318067949701% of population\n"
     ]
    }
   ],
   "source": [
    "data = pd.read_csv(data_file)\n",
    "NPop = np.array([295901,274933]) #N children N Adults\n",
    "\n",
    "NPopMF = np.array([276608, 294226])\n",
    "\n",
    "print(f\"Children are {NPop[0] / (NPop[0]+NPop[1])}% of population\")\n",
    "print(f\"Adults are {NPop[1] / (NPop[0]+NPop[1])}% of population\")\n",
    "\n",
    "print(f\"Men are {NPopMF[0] / (NPopMF[0]+NPopMF[1])}% of population\")\n",
    "print(f\"Women are {NPopMF[1] / (NPopMF[0]+NPopMF[1])}% of population\")"
   ]
  },
  {
   "cell_type": "code",
   "execution_count": null,
   "metadata": {},
   "outputs": [],
   "source": []
  },
  {
   "cell_type": "code",
   "execution_count": 5,
   "metadata": {
    "scrolled": true
   },
   "outputs": [
    {
     "name": "stdout",
     "output_type": "stream",
     "text": [
      "'45' : ,\n",
      "'35 minute ' : ,\n",
      "'10 minutes ' : ,\n",
      "'She do not go to water pump because she has a son.' : ,\n",
      "'30 minutes' : ,\n",
      "'30 Minutes ' : ,\n",
      "'30 minutes ' : ,\n",
      "'10 to 20 min' : ,\n",
      "'25min' : ,\n",
      "'20min' : ,\n",
      "'10 to 15 minutes ' : ,\n",
      "'40min' : ,\n",
      "'30mins water pumps and 15mins in latrine' : ,\n",
      "'50min' : ,\n",
      "'10 minutes' : ,\n",
      "'4 hours' : ,\n",
      "'3 hrs' : ,\n",
      "'18 minutes ' : ,\n",
      "'25 minute' : ,\n",
      "'25mi' : ,\n",
      "'4 hour ' : ,\n",
      "'45minutes' : ,\n",
      "'3 to 5 min' : ,\n",
      "'30 minute ' : ,\n",
      "'10  minutes ' : ,\n",
      "'30min' : ,\n",
      "'15mins' : ,\n",
      "'15 minute' : ,\n",
      "'5 Minutes' : ,\n",
      "'Need  Other help ' : ,\n",
      "'20minit' : ,\n",
      "'30mins in water pumps and 15min in latrine' : ,\n",
      "'15 minutes' : ,\n",
      "'40minutes' : ,\n",
      "'half an hour ' : ,\n",
      "'10 min' : ,\n",
      "'2 hours' : ,\n",
      "'20 Minutes ' : ,\n",
      "'5 to 10 min' : ,\n",
      "'30minutes' : ,\n",
      "'10minutes' : ,\n",
      "'2 hour ' : ,\n",
      "'15' : ,\n",
      "'20/30minutes' : ,\n",
      "'20 minutes ' : ,\n",
      "'30 to 45 min' : ,\n",
      "'3o minutes' : ,\n",
      "'7 minutes' : ,\n",
      "'20 min' : ,\n",
      "'30mins' : ,\n",
      "'29minutes' : ,\n",
      "'2 to 3 min' : ,\n",
      "'10 minute' : ,\n",
      "'15 minutes ' : ,\n",
      "'10 Minutes' : ,\n",
      "'24' : ,\n",
      "'35minutes' : ,\n",
      "'20 to 25 minutes ' : ,\n",
      "'30 mnt' : ,\n",
      "'25 minutes' : ,\n",
      "'3 hours' : ,\n",
      "'40 minutes ' : ,\n",
      "'5 minutes' : ,\n",
      "'15min' : ,\n",
      "'50 minutes ' : ,\n",
      "'17 minutes' : ,\n",
      "'20mins in water pump and 15min in latrine' : ,\n",
      "'1 hour' : ,\n",
      "'40mnt' : ,\n",
      "'4 hour' : ,\n",
      "'10' : ,\n",
      "'2 minutes' : ,\n",
      "'35 minutes ' : ,\n",
      "'15sec' : ,\n",
      "'12 minutes' : ,\n",
      "'23' : ,\n",
      "'40 minutes' : ,\n",
      "'Need  Other  help' : ,\n",
      "'2.5 hours' : ,\n",
      "'25 minutes ' : ,\n",
      "'Half an hour.' : ,\n",
      "'20' : ,\n",
      "'4' : ,\n",
      "'half an hour' : ,\n",
      "'3min' : ,\n",
      "'30 Min' : ,\n",
      "'15 minute ' : ,\n",
      "'34minutes' : ,\n",
      "'20 minute ' : ,\n",
      "'0 minutes' : ,\n",
      "'2 to 3 min ' : ,\n",
      "'1 hour and 30 minutes' : ,\n",
      "'30 min' : ,\n",
      "'other' : ,\n",
      "'15minutes' : ,\n",
      "'3 hour ' : ,\n",
      "'Half an hour' : ,\n",
      "'20minutes' : ,\n",
      "'12minutes' : ,\n",
      "'3â€“5 minutes ' : ,\n",
      "'30' : ,\n",
      "'30mins in water pumps and 15mins in latrin' : ,\n",
      "'5 minute' : ,\n",
      "'20 minutes' : ,\n",
      "'29 minutes' : ,\n",
      "'12 minutes ' : ,\n",
      "'5 to 10' : ,\n",
      "'45 min' : ,\n"
     ]
    }
   ],
   "source": [
    "#Loop over all possible time spent answers to create list.\n",
    "TimeCols = [\"education_time\", \"education_time77\", 'distcenter_time',\n",
    "       'distcenter_time77', 'evoucher_time', 'evoucher_time77','community_time', 'community_time77', 'religious_time', 'religious_time_77','pump_time',\n",
    "       'pump_time77']\n",
    "AllTimeAnswers=[]\n",
    "for whichtime in TimeCols:\n",
    "    Key, _ = np.unique(data[whichtime].dropna(), return_counts=True)\n",
    "    AllTimeAnswers += list(Key)\n",
    "    \n",
    "KeysAll = list(set(AllTimeAnswers))\n",
    "#Print with correct formatting for look-up dictionary\n",
    "for i in KeysAll:\n",
    "    print(\"'%s' : ,\" % i) "
   ]
  },
  {
   "cell_type": "code",
   "execution_count": 6,
   "metadata": {},
   "outputs": [],
   "source": [
    "#Manually add keys for these!\n",
    "TimeDict = {  \n",
    "    np.nan : np.nan,\n",
    "    '15 minutes' : 15,\n",
    "    '12 minutes ' : 12,\n",
    "    '3min' : 3,\n",
    "    '30mins' : 30,\n",
    "    '25mi' : 25,\n",
    "    '5 to 10' : 7.5,\n",
    "    'other' : np.nan,\n",
    "    '40 minutes' : 40,\n",
    "    'Half an hour' : 30,\n",
    "    '5 to 10 min' : 7.5,\n",
    "    '3o minutes' : 30,\n",
    "    '25min' : 25,\n",
    "    '30 Min' : 30,\n",
    "    '15 minute' : 15,\n",
    "    '5 minutes' : 5,\n",
    "    '30 minute ' : 30,\n",
    "    'Need  Other help ' : np.nan,\n",
    "    '10 to 15 minutes ' : 12.5,\n",
    "    '30 to 45 min' : 37.5,\n",
    "    '24' : 24,\n",
    "    '12minutes' : 12,\n",
    "    '2.5 hours' : 2.5*60,\n",
    "    '40mnt' : 40,\n",
    "    '10 minutes' : 10,\n",
    "    '0 minutes' : np.nan,\n",
    "    'Need  Other  help' : np.nan,\n",
    "    '10 minutes ' : 10,\n",
    "    '35 minutes ' : 35,\n",
    "    '40min' : 40,\n",
    "    '5 Minutes' : 5,\n",
    "    '30 Minutes ' : 30,\n",
    "    '20 minute ' : 20,\n",
    "    '30 mnt' : 30,\n",
    "    '4 hour ' : 4*60,\n",
    "    '20min' : 20,\n",
    "    '2 to 3 min' : 2.5,\n",
    "    '50min' : 50,\n",
    "    '15sec' : np.nan,\n",
    "    '29minutes' : 29,\n",
    "    '30' : 30,\n",
    "    '15 minutes ' : 15,\n",
    "    '3 hrs' : 3*60,\n",
    "    '17 minutes' : 17,\n",
    "    '30 minutes ' : 30,\n",
    "    '10  minutes ' : 10,\n",
    "    '29 minutes' : 29,\n",
    "    '20minit' : 20,\n",
    "    '3 to 5 min' : 4,\n",
    "    '7 minutes' : 7,\n",
    "    '4 hour' : 4*60,\n",
    "    '30mins in water pumps and 15min in latrine' : 45,\n",
    "    '35minutes' : 35,\n",
    "    '30minutes' : 30,\n",
    "    '20 Minutes ' : 20,\n",
    "    '10 Minutes' : 10,\n",
    "    '50 minutes ' : 50,\n",
    "    '25 minute' : 25,\n",
    "    '40 minutes ' : 40,\n",
    "    '15mins' : 15,\n",
    "    '18 minutes ' : 18,\n",
    "    '15 minute ' : 15,\n",
    "    'She do not go to water pump because she has a son.' : np.nan,\n",
    "    '20' : 20,\n",
    "    '35 minute ' : 35,\n",
    "    '45minutes' : 45,\n",
    "    '1 hour and 30 minutes' : 1.5*60,\n",
    "    '12 minutes' : 12,\n",
    "    '15minutes' : 15,\n",
    "    '5 minute' : 5,\n",
    "    '3 hour ' : 3*60,\n",
    "    '25 minutes' : 25,\n",
    "    '30mins in water pumps and 15mins in latrin' : 45,\n",
    "    '3 hours' : 3*60,\n",
    "    '20/30minutes' : 25,\n",
    "    '30 min' : 30,\n",
    "    '1 hour' : 1*60,\n",
    "    '10 min' : 10,\n",
    "    '30min' : 30,\n",
    "    '23' : 23,\n",
    "    '2 to 3 min ' : 2.5,\n",
    "    '2 minutes' : 2,\n",
    "    '10 to 20 min' : 15,\n",
    "    '20 minutes ' : 20,\n",
    "    '34minutes' : 34,\n",
    "    '45' : 45,\n",
    "    '30 minutes' : 30,\n",
    "    '3â€“5 minutes ' : 5,\n",
    "    'half an hour ' : 30,\n",
    "    '30mins water pumps and 15mins in latrine' : 45,\n",
    "    '2 hours' : 2*60,\n",
    "    '15min' : 15,\n",
    "    'half an hour' : 30,\n",
    "    '20mins in water pump and 15min in latrine' : 35,\n",
    "    '20minutes' : 20,\n",
    "    '4' : np.nan, #Minutes/hours?\n",
    "    '4 hours' : 4*60,\n",
    "    '10minutes' : 10,\n",
    "    '20 min' : 20,\n",
    "    '40minutes' : 40,\n",
    "    '25 minutes ' : 25,\n",
    "    '45 min' : 45,\n",
    "    '15' : 15,\n",
    "    '20 to 25 minutes ' : 22.5,\n",
    "    'Half an hour.' : 30,\n",
    "    '10 minute' : 10,\n",
    "    '10' : 10,\n",
    "    '2 hour ' : 2*60,\n",
    "    '20 minutes' : 20\n",
    "}"
   ]
  },
  {
   "cell_type": "code",
   "execution_count": 7,
   "metadata": {},
   "outputs": [],
   "source": [
    "def child_child(data, x, OmitDisability=False):\n",
    "    NotDisabledBool = True\n",
    "    if OmitDisability:\n",
    "        NotDisabledBool = data[\"disability\"] == \"No\"\n",
    "    Indexes = (data[\"age\"] == \"Under 18\") * NotDisabledBool\n",
    "    return (data[Indexes][x]).values, Indexes.values\n",
    "    \n",
    "def adult_adult(data, x, OmitDisability=False):\n",
    "    NotDisabledBool = True\n",
    "    if OmitDisability:\n",
    "        NotDisabledBool = data[\"disability\"] == \"No\"\n",
    "    Indexes = (data[\"age\"].isin([\"Over 18 but under 60\", \"Over 60\"])) * NotDisabledBool\n",
    "    return (data[Indexes][x]).values, Indexes\n",
    "    \n",
    "def child_adult(data, x, OmitDisability=False):\n",
    "    NotDisabledBool = True\n",
    "    if OmitDisability:\n",
    "        NotDisabledBool = data[\"disability\"] == \"No\"\n",
    "    Indexes = (data[\"age\"] == \"Under 18\") * NotDisabledBool\n",
    "    return (data[Indexes][x]).values, Indexes\n",
    "    \n",
    "def adult_child(data, x, OmitDisability=False):\n",
    "    NotDisabledBool = True\n",
    "    if OmitDisability:\n",
    "        NotDisabledBool = data[\"disability\"] == \"No\"\n",
    "    Indexes = (data[\"age\"].isin([\"Over 18 but under 60\", \"Over 60\"])) * NotDisabledBool\n",
    "    return (data[Indexes][x]).values, Indexes"
   ]
  },
  {
   "cell_type": "code",
   "execution_count": 8,
   "metadata": {},
   "outputs": [],
   "source": [
    "def contact_matrix_error(matrix, metric=np.median, confidence_level=0.682689492137086):\n",
    "    Error = np.zeros_like(matrix)\n",
    "    for i in range(Error.shape[0]):\n",
    "        for j in range(Error.shape[0]):\n",
    "            matrix_ij = matrix[i,j]\n",
    "            res = bootstrap(\n",
    "                (matrix_ij,), \n",
    "                metric,  \n",
    "                vectorized=False, \n",
    "                confidence_level=confidence_level,\n",
    "                random_state=None, \n",
    "                method=\"percentile\"\n",
    "            )\n",
    "            #print(res.confidence_interval)\n",
    "            Error[i,j] = res.standard_error\n",
    "    return Error "
   ]
  },
  {
   "cell_type": "code",
   "execution_count": 9,
   "metadata": {},
   "outputs": [],
   "source": [
    "def contact_matrix(data, x, y, times, WeightMF=False, OmitDisability=False, norm=False, characteristic_time=1):\n",
    "    def ProcessAndFilter(times, x_y, T_xy):\n",
    "        timesgiven_xy = times[T_xy]\n",
    "        sexes_xy = data[T_xy][\"sex\"].values\n",
    "        naninf = (np.isnan(x_y) | np.isinf(x_y) | np.isnan(timesgiven_xy) | np.isinf(timesgiven_xy))\n",
    "\n",
    "        xM_y = x_y[~naninf * (sexes_xy == \"Male\")]\n",
    "        xF_y = x_y[~naninf * (sexes_xy == \"Female\")]\n",
    "        x_y = x_y[~naninf * ((sexes_xy == \"Male\") | (sexes_xy == \"Female\"))]\n",
    "        \n",
    "        timesgiven_xMy = timesgiven_xy[~naninf * (sexes_xy == \"Male\")]\n",
    "        timesgiven_xFy = timesgiven_xy[~naninf * (sexes_xy == \"Female\")]\n",
    "        timesgiven_xy = timesgiven_xy[~naninf * ((sexes_xy == \"Male\") | (sexes_xy == \"Female\"))]\n",
    "        \n",
    "        sexes_xy = sexes_xy[~naninf * ((sexes_xy == \"Male\") | (sexes_xy == \"Female\"))]\n",
    "        return x_y, sexes_xy, timesgiven_xy, xM_y, xF_y, timesgiven_xMy, timesgiven_xFy\n",
    "    \n",
    "    c_c, T_cc = child_child(data, x, OmitDisability) \n",
    "    c_c, sexes_cc, timesgiven_cc, cM_c, cF_c, timesgiven_cMc, timesgiven_cFc = ProcessAndFilter(times, c_c, T_cc)\n",
    "    \n",
    "    c_a, T_ca = child_adult(data, y, OmitDisability)\n",
    "    c_a, sexes_ca, timesgiven_ca, cM_a, cF_a, timesgiven_cMa, timesgiven_cFa = ProcessAndFilter(times, c_a, T_ca)\n",
    "\n",
    "    a_a, T_aa = adult_adult(data, y, OmitDisability)\n",
    "    a_a, sexes_aa, timesgiven_aa, aM_a, aF_a, timesgiven_aMa, timesgiven_aFa = ProcessAndFilter(times, a_a, T_aa)\n",
    "\n",
    "    a_c, T_ac = adult_child(data, x, OmitDisability)\n",
    "    a_c, sexes_ac, timesgiven_ac, aM_c, aF_c, timesgiven_aMc, timesgiven_aFc = ProcessAndFilter(times, a_c, T_ac)\n",
    "\n",
    "    \n",
    "    def ColourMapping(sexes):\n",
    "        colors = []\n",
    "        for s in sexes:\n",
    "            if s == \"Male\":\n",
    "                colors.append(\"blue\")\n",
    "            elif s == \"Female\":\n",
    "                colors.append(\"red\")\n",
    "        return colors\n",
    "\n",
    "    if norm == True:\n",
    "        plt.rcParams[\"figure.figsize\"] = (5,5)\n",
    "        fig, axes = plt.subplots(2,2)\n",
    "        corr, _ = pearsonr(c_c, timesgiven_cc)\n",
    "        at = AnchoredText('Pearsons corr: %.2f' % corr, frameon=True, loc='upper left')\n",
    "        at.patch.set_boxstyle(\"round,pad=0.,rounding_size=0.2\")\n",
    "        axes[0,0].add_artist(at)\n",
    "        axes[0,0].scatter(c_c, timesgiven_cc, c=ColourMapping(sexes_cc), alpha=0.4)\n",
    "        axes[0,0].set_title(\"c_c\")\n",
    "        \n",
    "        corr, _ = pearsonr(c_a, timesgiven_ca)\n",
    "        at = AnchoredText('Pearsons corr: %.2f' % corr, frameon=True, loc='upper left')\n",
    "        at.patch.set_boxstyle(\"round,pad=0.,rounding_size=0.2\")\n",
    "        axes[0,1].add_artist(at)\n",
    "        axes[0,1].scatter(c_a, timesgiven_ca, c=ColourMapping(sexes_ca), alpha=0.4)\n",
    "        axes[0,1].set_title(\"c_a\")\n",
    "        \n",
    "        corr, _ = pearsonr(a_c, timesgiven_ac)\n",
    "        at = AnchoredText('Pearsons corr: %.2f' % corr, frameon=True, loc='upper left')\n",
    "        at.patch.set_boxstyle(\"round,pad=0.,rounding_size=0.2\")\n",
    "        axes[1,0].add_artist(at)\n",
    "        axes[1,0].scatter(a_c, timesgiven_ac, c=ColourMapping(sexes_ac), alpha=0.4)\n",
    "        axes[1,0].set_title(\"a_c\")\n",
    "        \n",
    "        corr, _ = pearsonr(a_a, timesgiven_aa)\n",
    "        at = AnchoredText('Pearsons corr: %.2f' % corr, frameon=True, loc='upper left')\n",
    "        at.patch.set_boxstyle(\"round,pad=0.,rounding_size=0.2\")\n",
    "        axes[1,1].add_artist(at)\n",
    "        axes[1,1].scatter(a_a, timesgiven_aa, c=ColourMapping(sexes_aa), alpha=0.4)\n",
    "        axes[1,1].set_title(\"a_a\")\n",
    "\n",
    "        axes[0,0].set_xlabel(\"N contacts\")\n",
    "        axes[0,1].set_xlabel(\"N contacts\")\n",
    "        axes[1,0].set_xlabel(\"N contacts\")\n",
    "        axes[1,1].set_xlabel(\"N contacts\")\n",
    "        axes[0,0].set_ylabel(\"time (mins)\")\n",
    "        axes[0,1].set_ylabel(\"time (mins)\")\n",
    "        axes[1,0].set_ylabel(\"time (mins)\")\n",
    "        axes[1,1].set_ylabel(\"time (mins)\")\n",
    "        \n",
    "        plt.tight_layout()\n",
    "        plt.show()\n",
    "    \n",
    "        #Normalize over contacts for the median time spend there.\n",
    "        \n",
    "        c_c /= (timesgiven_cc/characteristic_time) \n",
    "        c_a /= (timesgiven_ca/characteristic_time)\n",
    "        a_a /= (timesgiven_aa/characteristic_time)\n",
    "        a_c /= (timesgiven_ac/characteristic_time)\n",
    "        \n",
    "        cM_c /= (timesgiven_cMc/characteristic_time) \n",
    "        cM_a /= (timesgiven_cMa/characteristic_time)\n",
    "        aM_a /= (timesgiven_aMa/characteristic_time)\n",
    "        aM_c /= (timesgiven_aMc/characteristic_time)\n",
    "        \n",
    "        cF_c /= (timesgiven_cFc/characteristic_time) \n",
    "        cF_a /= (timesgiven_cFa/characteristic_time)\n",
    "        aF_a /= (timesgiven_aFa/characteristic_time)\n",
    "        aF_c /= (timesgiven_aFc/characteristic_time)\n",
    "        \n",
    "    quart = 90\n",
    "    c_c_quart = np.percentile(c_c, q=quart)\n",
    "    c_a_quart = np.percentile(c_a, q=quart)\n",
    "    a_a_quart = np.percentile(a_a, q=quart)\n",
    "    a_c_quart = np.percentile(a_c, q=quart)\n",
    "\n",
    "    maxcontacts = max(max(c_c),max(c_a),max(a_c),max(a_a))\n",
    "    maxcontacts = (maxcontacts - (maxcontacts%10))+10\n",
    "    if maxcontacts > 40:\n",
    "        maxcontacts = 40\n",
    "        \n",
    "        \n",
    "    bins = np.arange(0,maxcontacts+1,1)-0.5\n",
    "    x = np.arange(0, maxcontacts)\n",
    "    plt.rcParams[\"figure.figsize\"] = (8,8)\n",
    "    fig, axes = plt.subplots(2,2)\n",
    "    \n",
    "    med = np.nanmedian(c_c[c_c<c_c_quart])\n",
    "    #hist_cc = axes[0,0].hist(c_c, bins)\n",
    "    hist_cMc = axes[0,0].hist(cM_c, bins, color=\"b\", alpha=0.4)\n",
    "    hist_cFc = axes[0,0].hist(cF_c, bins, bottom=hist_cMc[0], color=\"r\", alpha=0.4)\n",
    "    \n",
    "    axes[0,0].axvline(c_c_quart, linestyle=\"--\", color='r')\n",
    "    axes[0,0].axvline(med, linestyle=\"--\", color='g')\n",
    "    axes[0,0].set_title(\"c_c\")\n",
    "    rv = poisson(med)\n",
    "    #axes[0,0].plot(x, (rv.pmf(x)*sum(hist_cc[0]))/sum(rv.pmf(x)), linestyle='-', color=\"black\")\n",
    "\n",
    "    \n",
    "    med = np.nanmedian(c_a[c_a<c_a_quart])    \n",
    "    #hist_ca = axes[0,1].hist(c_a, bins)\n",
    "    hist_cMa = axes[0,1].hist(cM_a, bins, color=\"b\", alpha=0.4)\n",
    "    hist_cFa = axes[0,1].hist(cF_a, bins, bottom=hist_cMa[0], color=\"r\", alpha=0.4)\n",
    "    axes[0,1].axvline(c_a_quart, linestyle=\"--\", color='r')\n",
    "    axes[0,1].axvline(med, linestyle=\"--\", color='g')\n",
    "    axes[0,1].set_title(\"c_a\")\n",
    "    rv = poisson(med)\n",
    "    #axes[0,1].plot(x, (rv.pmf(x)*sum(hist_cc[0]))/sum(rv.pmf(x)), linestyle='-', color=\"black\")\n",
    "    \n",
    "    med = np.nanmedian(a_c[a_c<a_c_quart])\n",
    "    #hist_ac = axes[1,0].hist(a_c, bins)\n",
    "    hist_aMc = axes[1,0].hist(aM_c, bins, color=\"b\", alpha=0.4)\n",
    "    hist_aFc = axes[1,0].hist(aF_c, bins, bottom=hist_aMc[0], color=\"r\", alpha=0.4)\n",
    "    axes[1,0].axvline(a_c_quart, linestyle=\"--\", color='r')\n",
    "    axes[1,0].axvline(med, linestyle=\"--\", color='g')\n",
    "    axes[1,0].set_title(\"a_c\")\n",
    "    rv = poisson(med)\n",
    "    #axes[1,0].plot(x, (rv.pmf(x)*sum(hist_cc[0]))/sum(rv.pmf(x)), linestyle='-', color=\"black\")\n",
    "    \n",
    "    med = np.nanmedian(a_a[a_a<a_a_quart])\n",
    "    #hist_aa = axes[1,1].hist(a_a, bins)\n",
    "    hist_aMa = axes[1,1].hist(aM_a, bins, color=\"b\", alpha=0.4)\n",
    "    hist_aFa = axes[1,1].hist(aF_a, bins, bottom=hist_aMa[0], color=\"r\", alpha=0.4)\n",
    "    axes[1,1].axvline(a_a_quart, linestyle=\"--\", color='r')\n",
    "    axes[1,1].axvline(med, linestyle=\"--\", color='g')\n",
    "    axes[1,1].set_title(\"a_a\")\n",
    "    rv = poisson(med)\n",
    "    #axes[1,1].plot(x, (rv.pmf(x)*sum(hist_cc[0]))/sum(rv.pmf(x)), linestyle='-', color=\"black\")\n",
    "    \n",
    "    axes[0,0].set_xlabel(\"N contacts\")\n",
    "    axes[0,1].set_xlabel(\"N contacts\")\n",
    "    axes[1,0].set_xlabel(\"N contacts\")\n",
    "    axes[1,1].set_xlabel(\"N contacts\")\n",
    "    \n",
    "    axes[0,0].set_ylabel(\"counts\")\n",
    "    axes[0,1].set_ylabel(\"counts\")\n",
    "    axes[1,0].set_ylabel(\"counts\")\n",
    "    axes[1,1].set_ylabel(\"counts\")\n",
    "    \n",
    "    plt.tight_layout()\n",
    "    plt.show()\n",
    "    \n",
    "    c_c = c_c[c_c<c_c_quart]\n",
    "    c_a = c_a[c_a<c_a_quart]\n",
    "    a_a = a_a[a_a<a_a_quart]\n",
    "    a_c = a_c[a_c<a_c_quart]\n",
    "    \n",
    "    cM_c = cM_c[cM_c<c_c_quart]\n",
    "    cM_a = cM_a[cM_a<c_a_quart]\n",
    "    aM_a = aM_a[aM_a<a_a_quart]\n",
    "    aM_c = aM_c[aM_c<a_c_quart]\n",
    "    \n",
    "    cF_c = cF_c[cF_c<c_c_quart]\n",
    "    cF_a = cF_a[cF_a<c_a_quart]\n",
    "    aF_a = aF_a[aF_a<a_a_quart]\n",
    "    aF_c = aF_c[aF_c<a_c_quart]\n",
    "    \n",
    "    ArrayM = np.array([[np.nanmedian(cM_c),np.nanmedian(cM_a)],[np.nanmedian(aM_c),np.nanmedian(aM_a)]])\n",
    "    ErrorM = contact_matrix_error(np.array([[cM_c, cM_a],[aM_c ,aM_a]],dtype=object))\n",
    "    \n",
    "    ArrayF = np.array([[np.nanmedian(cF_c),np.nanmedian(cF_a)],[np.nanmedian(aF_c),np.nanmedian(aF_a)]])\n",
    "    ErrorF = contact_matrix_error(np.array([[cF_c, cF_a],[aF_c ,aF_a]],dtype=object))\n",
    "    \n",
    "    if WeightMF:\n",
    "        Array = (ArrayM*Weight_Male + ArrayF*Weight_Female)/2\n",
    "        Error = ((ErrorM*Weight_Male*0.5)**2 + (ErrorF*Weight_Female*0.5)**2)**0.5\n",
    "        \n",
    "    else:\n",
    "        Array = np.array([[np.nanmedian(c_c),np.nanmedian(c_a)],[np.nanmedian(a_c),np.nanmedian(a_a)]])\n",
    "        Error = contact_matrix_error(np.array([[c_c, c_a],[a_c ,a_a]],dtype=object))\n",
    "        \n",
    "    return Array, Error"
   ]
  },
  {
   "cell_type": "code",
   "execution_count": 10,
   "metadata": {},
   "outputs": [],
   "source": [
    "def ModifyCM(input_cm, input_err, Nlocal):\n",
    "    Gij = np.zeros_like(input_cm)\n",
    "    Gij_err = np.zeros_like(input_err)    \n",
    "    \n",
    "    N = np.zeros_like(Nlocal, dtype=float)\n",
    "    for i in range(Gij.shape[0]):\n",
    "        N[i] = Nlocal[i]*(NSurvey[i]/NPop[i])\n",
    "\n",
    "    for i in range(Gij.shape[0]):\n",
    "        for j in range(Gij.shape[1]):\n",
    "\n",
    "            wij = N[j]/N[i]\n",
    "            \n",
    "            Gij[i,j] = 0.5*(input_cm[i,j]+input_cm[j,i]*wij)\n",
    "            Gij_err[i,j] = 0.5*np.sqrt(\n",
    "                input_err[i,j]**2 + (input_err[j,i]*wij)**2\n",
    "            )\n",
    "            \n",
    "    for i in range(Gij.shape[0]):\n",
    "        for j in range(Gij.shape[1]):\n",
    "            wij = input_cm[i,j]/input_cm[j,i] \n",
    "            wij_new = Gij[i,j]/Gij[j,i] \n",
    "            P_ij = N[j]/N[i]\n",
    "            \n",
    "            print(i,j, wij_new,P_ij, wij_new/P_ij)\n",
    "            \n",
    "    return Gij,Gij_err"
   ]
  },
  {
   "cell_type": "code",
   "execution_count": 11,
   "metadata": {},
   "outputs": [],
   "source": [
    "def GetBetterTimes(data, Cols):\n",
    "    Times = []\n",
    "    for row_i in range(data.shape[0]):\n",
    "        T1 = data[Cols].iloc[row_i].values[0]\n",
    "        T2 = data[Cols].iloc[row_i].values[1]\n",
    "        \n",
    "        T1_Trans = TimeDict[T1]\n",
    "        T2_Trans = TimeDict[T2]\n",
    "                \n",
    "        if np.isnan(T1_Trans) == False:\n",
    "            Times.append(T1_Trans)\n",
    "        elif np.isnan(T2_Trans) == False:\n",
    "            Times.append(T2_Trans)\n",
    "        else:\n",
    "            Times.append(np.nan)  \n",
    "        \n",
    "    return Times\n",
    "\n",
    "def attendance(times):\n",
    "    main_times, main_counts = np.unique(times, return_counts=True)\n",
    "\n",
    "    df = pd.DataFrame({'times': list(main_times), 'counts': list(main_counts)}).groupby('times').sum()\n",
    "    times = list(df.index)\n",
    "    counts = list(df.counts)\n",
    "    \n",
    "    plt.hist(times, bins=np.arange(0,4*60,10))\n",
    "    plt.xlabel(\"time (mins)\")\n",
    "    plt.ylabel(\"counts\")\n",
    "    plt.show()\n",
    "    \n",
    "    assert len(times) == len(counts)\n",
    "    counts = np.array(counts)\n",
    "    times = np.array(times)\n",
    "    total = []\n",
    "    for idx, i in enumerate(counts):\n",
    "        for j in range(i):\n",
    "            total.append(float(times[idx]))\n",
    "    return np.mean(total), np.median(total)"
   ]
  },
  {
   "cell_type": "markdown",
   "metadata": {},
   "source": [
    "## Overview"
   ]
  },
  {
   "cell_type": "code",
   "execution_count": 12,
   "metadata": {},
   "outputs": [
    {
     "name": "stdout",
     "output_type": "stream",
     "text": [
      "There are 309 participants\n"
     ]
    }
   ],
   "source": [
    "print (\"There are {} participants\".format(len(data)))\n",
    "#print(data.columns)"
   ]
  },
  {
   "cell_type": "code",
   "execution_count": 13,
   "metadata": {},
   "outputs": [
    {
     "data": {
      "text/plain": [
       "(array(['Female', 'Male'], dtype=object), array([152, 155]))"
      ]
     },
     "execution_count": 13,
     "metadata": {},
     "output_type": "execute_result"
    }
   ],
   "source": [
    "np.unique(data[\"sex\"].dropna(), return_counts=True)"
   ]
  },
  {
   "cell_type": "code",
   "execution_count": 14,
   "metadata": {},
   "outputs": [
    {
     "name": "stdout",
     "output_type": "stream",
     "text": [
      "0.9660101400022851 1.0478186072345117\n"
     ]
    }
   ],
   "source": [
    "Weight_Male = NPopMF[0]/(NPopMF[0]+NPopMF[1]) / (155/len(data))\n",
    "Weight_Female = NPopMF[1]/(NPopMF[0]+NPopMF[1]) / (152/len(data))\n",
    "print(Weight_Male, Weight_Female)"
   ]
  },
  {
   "cell_type": "code",
   "execution_count": 15,
   "metadata": {},
   "outputs": [
    {
     "name": "stdout",
     "output_type": "stream",
     "text": [
      "(array(['Over 18 but under 60', 'Over 60', 'Under 18'], dtype=object), array([115, 102,  92]))\n",
      "[ 92 217]\n"
     ]
    }
   ],
   "source": [
    "Nij = np.unique(data[\"age\"], return_counts=True)\n",
    "print(Nij)\n",
    "Nij = np.array([Nij[1][2], Nij[1][0]+Nij[1][1]])\n",
    "print(Nij)\n",
    "NSurvey = Nij"
   ]
  },
  {
   "cell_type": "code",
   "execution_count": 16,
   "metadata": {},
   "outputs": [
    {
     "name": "stdout",
     "output_type": "stream",
     "text": [
      "1.7410339996810158 0.685828903361044\n"
     ]
    }
   ],
   "source": [
    "Weight_Child = NPop[0]/(NPop[0]+NPop[1]) / (92/len(data))\n",
    "Weight_Adult = NPop[1]/(NPop[0]+NPop[1]) / (217/len(data))\n",
    "print(Weight_Child, Weight_Adult)"
   ]
  },
  {
   "cell_type": "code",
   "execution_count": 17,
   "metadata": {},
   "outputs": [
    {
     "data": {
      "text/plain": [
       "(array(['No', 'Yes'], dtype=object), array([261,  48]))"
      ]
     },
     "execution_count": 17,
     "metadata": {},
     "output_type": "execute_result"
    }
   ],
   "source": [
    "np.unique(data[\"disability\"], return_counts=True)"
   ]
  },
  {
   "cell_type": "markdown",
   "metadata": {},
   "source": [
    "## Face mask"
   ]
  },
  {
   "cell_type": "code",
   "execution_count": 18,
   "metadata": {},
   "outputs": [],
   "source": [
    "#\"Do you have access to a face mask?\""
   ]
  },
  {
   "cell_type": "code",
   "execution_count": 19,
   "metadata": {},
   "outputs": [
    {
     "data": {
      "text/plain": [
       "(array(['No', 'Yes'], dtype=object), array([ 58, 251]))"
      ]
     },
     "execution_count": 19,
     "metadata": {},
     "output_type": "execute_result"
    }
   ],
   "source": [
    "np.unique(data[\"face_mask\"], return_counts=True)"
   ]
  },
  {
   "cell_type": "code",
   "execution_count": 20,
   "metadata": {},
   "outputs": [
    {
     "data": {
      "text/plain": [
       "(array(['Female', 'Male'], dtype=object), array([31, 27]))"
      ]
     },
     "execution_count": 20,
     "metadata": {},
     "output_type": "execute_result"
    }
   ],
   "source": [
    "np.unique(data[data[\"face_mask\"] == \"No\"][\"sex\"], return_counts=True)"
   ]
  },
  {
   "cell_type": "code",
   "execution_count": 21,
   "metadata": {},
   "outputs": [
    {
     "name": "stdout",
     "output_type": "stream",
     "text": [
      "(array(['Over 18 but under 60', 'Over 60', 'Under 18'], dtype=object), array([15, 26, 17]))\n",
      "[17 41]\n"
     ]
    }
   ],
   "source": [
    "Nij = np.unique(data[data[\"face_mask\"] == \"No\"][\"age\"], return_counts=True)\n",
    "print(Nij)\n",
    "Nij = np.array([Nij[1][2], Nij[1][0]+Nij[1][1]])\n",
    "print(Nij)"
   ]
  },
  {
   "cell_type": "code",
   "execution_count": 22,
   "metadata": {},
   "outputs": [
    {
     "data": {
      "text/plain": [
       "(array(['No', 'Yes'], dtype=object), array([45, 13]))"
      ]
     },
     "execution_count": 22,
     "metadata": {},
     "output_type": "execute_result"
    }
   ],
   "source": [
    "np.unique(data[data[\"face_mask\"] == \"No\"][\"disability\"], return_counts=True)\n",
    "## Note: need to scale"
   ]
  },
  {
   "cell_type": "markdown",
   "metadata": {},
   "source": [
    "## Learning centers"
   ]
  },
  {
   "cell_type": "code",
   "execution_count": 23,
   "metadata": {},
   "outputs": [],
   "source": [
    "#\"When the learning centers were open, did you attend any formal education?\""
   ]
  },
  {
   "cell_type": "code",
   "execution_count": 24,
   "metadata": {},
   "outputs": [
    {
     "data": {
      "text/plain": [
       "(array(['No', 'Yes'], dtype=object), array([193, 116]))"
      ]
     },
     "execution_count": 24,
     "metadata": {},
     "output_type": "execute_result"
    }
   ],
   "source": [
    "np.unique(data[\"education\"], return_counts=True)"
   ]
  },
  {
   "cell_type": "code",
   "execution_count": 25,
   "metadata": {},
   "outputs": [
    {
     "name": "stdout",
     "output_type": "stream",
     "text": [
      "(array(['Over 18 but under 60', 'Over 60', 'Under 18'], dtype=object), array([22,  3, 37]))\n",
      "[37 25]\n"
     ]
    }
   ],
   "source": [
    "Nij = np.unique(data[(data[\"education\"] == \"Yes\") & (data[\"sex\"] == \"Male\")][\"age\"], return_counts=True)\n",
    "print(Nij)\n",
    "Nij = np.array([Nij[1][2], Nij[1][0]+Nij[1][1]])\n",
    "print(Nij)"
   ]
  },
  {
   "cell_type": "code",
   "execution_count": 26,
   "metadata": {},
   "outputs": [
    {
     "name": "stdout",
     "output_type": "stream",
     "text": [
      "(array(['Over 18 but under 60', 'Over 60', 'Under 18'], dtype=object), array([13,  4, 35]))\n",
      "[35 17]\n"
     ]
    }
   ],
   "source": [
    "Nij=np.unique(data[(data[\"education\"] == \"Yes\") & (data[\"sex\"] == \"Female\")][\"age\"], return_counts=True)\n",
    "print(Nij)\n",
    "Nij = np.array([Nij[1][2], Nij[1][0]+Nij[1][1]])\n",
    "print(Nij)"
   ]
  },
  {
   "cell_type": "code",
   "execution_count": 27,
   "metadata": {},
   "outputs": [
    {
     "name": "stdout",
     "output_type": "stream",
     "text": [
      "(array(['Over 18 but under 60', 'Over 60', 'Under 18'], dtype=object), array([35,  7, 74]))\n",
      "[74 42]\n"
     ]
    }
   ],
   "source": [
    "Nij=np.unique(data[(data[\"education\"] == \"Yes\")][\"age\"], return_counts=True)\n",
    "print(Nij)\n",
    "Nij = np.array([Nij[1][2], Nij[1][0]+Nij[1][1]])\n",
    "print(Nij)"
   ]
  },
  {
   "cell_type": "code",
   "execution_count": 28,
   "metadata": {},
   "outputs": [
    {
     "data": {
      "text/plain": [
       "(array(['No', 'Yes'], dtype=object), array([108,   8]))"
      ]
     },
     "execution_count": 28,
     "metadata": {},
     "output_type": "execute_result"
    }
   ],
   "source": [
    "np.unique(data[data[\"education\"] == \"Yes\"][\"disability\"], return_counts=True)\n",
    "## Note: need to scale"
   ]
  },
  {
   "cell_type": "code",
   "execution_count": 29,
   "metadata": {},
   "outputs": [
    {
     "data": {
      "image/png": "[encoded data removed]",
      "text/plain": [
       "<Figure size 640x480 with 1 Axes>"
      ]
     },
     "metadata": {},
     "output_type": "display_data"
    }
   ],
   "source": [
    "#When you go to an learning center, how much time do you spend there?\n",
    "times = GetBetterTimes(data,[\"education_time\",\"education_time77\" ])\n",
    "lc_attendance_mean, lc_attendance_median = attendance(times)"
   ]
  },
  {
   "cell_type": "code",
   "execution_count": 30,
   "metadata": {},
   "outputs": [
    {
     "data": {
      "text/plain": [
       "(1.496312684365782, 1.5)"
      ]
     },
     "execution_count": 30,
     "metadata": {},
     "output_type": "execute_result"
    }
   ],
   "source": [
    "lc_attendance_mean/60., lc_attendance_median/60."
   ]
  },
  {
   "cell_type": "code",
   "execution_count": null,
   "metadata": {
    "scrolled": false
   },
   "outputs": [
    {
     "name": "stdout",
     "output_type": "stream",
     "text": [
      "\n",
      "Average over answers per unit time Sex norm\n"
     ]
    },
    {
     "data": {
      "image/png": "[encoded data removed]",
      "text/plain": [
       "<Figure size 500x500 with 4 Axes>"
      ]
     },
     "metadata": {},
     "output_type": "display_data"
    },
    {
     "data": {
      "image/png": "[encoded data removed]",
      "text/plain": [
       "<Figure size 800x800 with 4 Axes>"
      ]
     },
     "metadata": {},
     "output_type": "display_data"
    }
   ],
   "source": [
    "#\"When you attended formal education, approximately how many children do you come into contact with (for example, talk to)?\"\n",
    "#\"When you attended formal education, approximately how many adults do you come into contact with (for example, talk to)?\"\n",
    "print(\"\")\n",
    "print(\"Average over answers per unit time Sex norm\")\n",
    "lc_contact, lc_error = contact_matrix(\n",
    "    data = data,\n",
    "    x = \"education_contact_children\",\n",
    "    y = \"education_contact_adults\",\n",
    "    WeightMF=True, \n",
    "    OmitDisability=False,\n",
    "    times = np.array(times),\n",
    "    norm = True, characteristic_time=lc_attendance_median\n",
    ")\n",
    "lc_contact, lc_error = ModifyCM(lc_contact, lc_error, Nij)\n",
    "PolicyText(\"learning_center\", lc_contact, lc_error, np.array([[0.12,0.12],[0.12,0.12]]), lc_attendance_median/60.)\n",
    "\n",
    "print(\"\")\n",
    "print(\"Average over answers per unit time Sex norm remove disabled\")\n",
    "lc_contact, lc_error = contact_matrix(\n",
    "    data = data,\n",
    "    x = \"education_contact_children\",\n",
    "    y = \"education_contact_adults\",\n",
    "    WeightMF=True, \n",
    "    OmitDisability=True,\n",
    "    times = np.array(times),\n",
    "    norm = True, characteristic_time=lc_attendance_median\n",
    ")\n",
    "lc_contact, lc_error = ModifyCM(lc_contact, lc_error, Nij)\n",
    "PolicyText(\"learning_center\", lc_contact, lc_error, np.array([[0.12,0.12],[0.12,0.12]]), lc_attendance_median/60.)"
   ]
  },
  {
   "cell_type": "code",
   "execution_count": null,
   "metadata": {},
   "outputs": [],
   "source": [
    "#   learning_center:\n",
    "#     contacts: [[10.00,2.59],[6.11,3.88]]\n",
    "#     contacts_err: [[0.77,0.37],[0.87,0.88]]\n",
    "#     proportion_physical: [[0.12,0.12],[0.12,0.12]]\n",
    "#     characteristic_time: 1.50\n",
    "\n",
    "# learning_center:\n",
    "#     contacts: [[10.00,7.14],[4.36,3.88]]\n",
    "#     contacts_err: [[0.77,1.23],[0.75,0.88]]\n",
    "#     proportion_physical: [[0.12,0.12],[0.12,0.12]]\n",
    "#     characteristic_time: 1.50"
   ]
  },
  {
   "cell_type": "markdown",
   "metadata": {},
   "source": [
    "## Food distribution center"
   ]
  },
  {
   "cell_type": "code",
   "execution_count": null,
   "metadata": {},
   "outputs": [],
   "source": [
    "#\"Do you ever go to a food distribution center?\"\n",
    "Nij=np.unique(data[(data[\"distcenter\"] == \"Yes\") & (data[\"sex\"] == \"Male\")][\"age\"], return_counts=True)\n",
    "print(Nij)\n",
    "Nij = np.array([Nij[1][2], Nij[1][0]+Nij[1][1]])\n",
    "print(Nij)"
   ]
  },
  {
   "cell_type": "code",
   "execution_count": null,
   "metadata": {},
   "outputs": [],
   "source": [
    "Nij=np.unique(data[(data[\"distcenter\"] == \"Yes\") & (data[\"sex\"] == \"Female\")][\"age\"], return_counts=True)\n",
    "print(Nij)\n",
    "Nij = np.array([Nij[1][2], Nij[1][0]+Nij[1][1]])\n",
    "print(Nij)"
   ]
  },
  {
   "cell_type": "code",
   "execution_count": null,
   "metadata": {},
   "outputs": [],
   "source": [
    "Nij=np.unique(data[(data[\"distcenter\"] == \"Yes\") ][\"age\"], return_counts=True)\n",
    "print(Nij)\n",
    "Nij = np.array([Nij[1][2], Nij[1][0]+Nij[1][1]])\n",
    "print(Nij)"
   ]
  },
  {
   "cell_type": "code",
   "execution_count": null,
   "metadata": {},
   "outputs": [],
   "source": [
    "#When you go to a food distribution center, how much time do you spend there?\n",
    "times = GetBetterTimes(data,[\"distcenter_time\",\"distcenter_time77\" ])\n",
    "dc_attendance_mean, dc_attendance_median = attendance(times)"
   ]
  },
  {
   "cell_type": "code",
   "execution_count": null,
   "metadata": {},
   "outputs": [],
   "source": [
    "dc_attendance_mean/60., dc_attendance_median/60."
   ]
  },
  {
   "cell_type": "code",
   "execution_count": null,
   "metadata": {
    "scrolled": false
   },
   "outputs": [],
   "source": [
    "#\"When you go to a food distribution center, approximately how many children do you come into contact with at the center (for example, talk to)?\",\n",
    "#\"When you go to a food distribution center, approximately how many adults do you come into contact with at the center (for example, talk to)?\"\n",
    "print(\"Average over answers per unit time Sex norm\")\n",
    "dc_contact, dc_error = contact_matrix(\n",
    "    data = data,\n",
    "    x = \"distcenter_contact_children\",\n",
    "    y = \"distcenter_contact_adults\",\n",
    "    WeightMF=True, \n",
    "    OmitDisability=False,\n",
    "    times = np.array(times),\n",
    "    norm = True, characteristic_time=dc_attendance_median\n",
    ")\n",
    "dc_contact, dc_error = ModifyCM(dc_contact, dc_error, Nij)\n",
    "PolicyText(\"distribution_center\", dc_contact, dc_error, np.array([[0.12]]), dc_attendance_median/60.)\n",
    "\n",
    "print(\"\")\n",
    "print(\"Average over answers per unit time Sex norm remove disabled\")\n",
    "dc_contact, dc_error = contact_matrix(\n",
    "    data = data,\n",
    "    x = \"distcenter_contact_children\",\n",
    "    y = \"distcenter_contact_adults\",\n",
    "    WeightMF=True, \n",
    "    OmitDisability=True,\n",
    "    times = np.array(times),\n",
    "    norm = True, characteristic_time=dc_attendance_median\n",
    ")\n",
    "\n",
    "dc_contact, dc_error = ModifyCM(dc_contact, dc_error, Nij)\n",
    "PolicyText(\"distribution_center\", dc_contact, dc_error, np.array([[0.12]]), dc_attendance_median/60.)"
   ]
  },
  {
   "cell_type": "markdown",
   "metadata": {},
   "source": [
    "## E-voucher outlet"
   ]
  },
  {
   "cell_type": "code",
   "execution_count": null,
   "metadata": {},
   "outputs": [],
   "source": [
    "#Do you ever go to an e-voucher outlet?\n",
    "Nij=np.unique(data[(data[\"evoucher\"] == \"Yes\") & (data[\"sex\"] == \"Male\")][\"age\"], return_counts=True)\n",
    "print(Nij)\n",
    "Nij = np.array([Nij[1][2], Nij[1][0]+Nij[1][1]])\n",
    "print(Nij)"
   ]
  },
  {
   "cell_type": "code",
   "execution_count": null,
   "metadata": {},
   "outputs": [],
   "source": [
    "Nij=np.unique(data[(data[\"evoucher\"] == \"Yes\") & (data[\"sex\"] == \"Female\")][\"age\"], return_counts=True)\n",
    "print(Nij)\n",
    "Nij = np.array([Nij[1][2], Nij[1][0]+Nij[1][1]])\n",
    "print(Nij)"
   ]
  },
  {
   "cell_type": "code",
   "execution_count": null,
   "metadata": {},
   "outputs": [],
   "source": [
    "Nij=np.unique(data[(data[\"evoucher\"] == \"Yes\")][\"age\"], return_counts=True)\n",
    "print(Nij)\n",
    "Nij = np.array([Nij[1][2], Nij[1][0]+Nij[1][1]])\n",
    "print(Nij)"
   ]
  },
  {
   "cell_type": "code",
   "execution_count": null,
   "metadata": {},
   "outputs": [],
   "source": [
    "#When you go to a e-voucher outlet, how much time do you spend there?\n",
    "times = GetBetterTimes(data,[\"evoucher_time\",\"evoucher_time77\" ])\n",
    "voucher_attendance_mean, voucher_attendance_median = attendance(times)"
   ]
  },
  {
   "cell_type": "code",
   "execution_count": null,
   "metadata": {},
   "outputs": [],
   "source": [
    "voucher_attendance_mean/60., voucher_attendance_median/60."
   ]
  },
  {
   "cell_type": "code",
   "execution_count": null,
   "metadata": {
    "scrolled": false
   },
   "outputs": [],
   "source": [
    "#\"When you go to an outlet, approximately how many children do you come into contact with at the outlet (for example, talk to)?\",\n",
    "#\"When you go to an outlet, approximately how many adults do you come into contact with at the outlet (for example, talk to)?\",\n",
    "print(\"Average over answers per unit time Sex norm\")\n",
    "voucher_contact, voucher_error = contact_matrix(\n",
    "    data = data,\n",
    "    x = \"evoucher_contact_children\",\n",
    "    y = \"evoucher_contact_adults\",\n",
    "    WeightMF=True, \n",
    "    OmitDisability=False,\n",
    "    times = np.array(times),\n",
    "    norm = True, characteristic_time=voucher_attendance_median\n",
    ")\n",
    "voucher_contact, voucher_error = ModifyCM(voucher_contact, voucher_error , Nij)\n",
    "PolicyText(\"e_voucher\", voucher_contact, voucher_error, np.array([[0.12]]), voucher_attendance_median/60.)\n",
    "\n",
    "print(\"\")\n",
    "print(\"Average over answers per unit time Sex norm remove disabled\")\n",
    "voucher_contact, voucher_error = contact_matrix(\n",
    "    data = data,\n",
    "    x = \"evoucher_contact_children\",\n",
    "    y = \"evoucher_contact_adults\",\n",
    "    WeightMF=True, \n",
    "    OmitDisability=True,\n",
    "    times = np.array(times),\n",
    "    norm = True, characteristic_time=voucher_attendance_median\n",
    ")\n",
    "voucher_contact, voucher_error = ModifyCM(voucher_contact, voucher_error , Nij)\n",
    "PolicyText(\"e_voucher\", voucher_contact, voucher_error, np.array([[0.12]]), voucher_attendance_median/60.)"
   ]
  },
  {
   "cell_type": "markdown",
   "metadata": {},
   "source": [
    "## Community center"
   ]
  },
  {
   "cell_type": "code",
   "execution_count": null,
   "metadata": {},
   "outputs": [],
   "source": [
    "#Do you ever go to a community center?\n",
    "Nij=np.unique(data[(data[\"community\"] == \"Yes\") & (data[\"sex\"] == \"Male\")][\"age\"], return_counts=True)\n",
    "print(Nij)\n",
    "Nij = np.array([Nij[1][2], Nij[1][0]+Nij[1][1]])\n",
    "print(Nij)"
   ]
  },
  {
   "cell_type": "code",
   "execution_count": null,
   "metadata": {},
   "outputs": [],
   "source": [
    "Nij=np.unique(data[(data[\"community\"] == \"Yes\") & (data[\"sex\"] == \"Female\")][\"age\"], return_counts=True)\n",
    "print(Nij)\n",
    "Nij = np.array([Nij[1][2], Nij[1][0]+Nij[1][1]])\n",
    "print(Nij)"
   ]
  },
  {
   "cell_type": "code",
   "execution_count": null,
   "metadata": {},
   "outputs": [],
   "source": [
    "Nij=np.unique(data[(data[\"community\"] == \"Yes\") ][\"age\"], return_counts=True)\n",
    "print(Nij)\n",
    "Nij = np.array([Nij[1][2], Nij[1][0]+Nij[1][1]])\n",
    "print(Nij)"
   ]
  },
  {
   "cell_type": "code",
   "execution_count": null,
   "metadata": {},
   "outputs": [],
   "source": [
    "#When you go to a community center, how much time do you spend there?\n",
    "times = GetBetterTimes(data,[\"community_time\",\"community_time77\" ])\n",
    "community_attendance_mean, community_attendance_median = attendance(times)"
   ]
  },
  {
   "cell_type": "code",
   "execution_count": null,
   "metadata": {},
   "outputs": [],
   "source": [
    "community_attendance_mean/60., community_attendance_median/60."
   ]
  },
  {
   "cell_type": "code",
   "execution_count": null,
   "metadata": {
    "scrolled": false
   },
   "outputs": [],
   "source": [
    "#\"When you go to a community center, approximately how many children do you come into contact with at the center (for example, talk to)?\",\n",
    "#\"When you go to a community center, approximately how many adults do you come into contact with at the center (for example, talk to)?\"\n",
    "print(\"Average over answers per unit time Sex norm\")\n",
    "community_contact, community_error = contact_matrix(\n",
    "    data = data,\n",
    "    x = \"community_contact_children\",\n",
    "    y = \"community_contact_adults\",\n",
    "    WeightMF=True, \n",
    "    OmitDisability=False,\n",
    "    times = np.array(times),\n",
    "    norm = True, characteristic_time=community_attendance_median\n",
    ")\n",
    "community_contact, community_error = ModifyCM(community_contact, community_error , Nij)\n",
    "PolicyText(\"communal\", community_contact, community_error, np.array([[0.12]]), community_attendance_median/60.)\n",
    "PolicyText(\"female_communal\", community_contact, community_error, np.array([[0.12]]), community_attendance_median/60.)\n",
    "\n",
    "\n",
    "print(\"\")\n",
    "print(\"Average over answers per unit time Sex norm remove disabled\")\n",
    "community_contact, community_error = contact_matrix(\n",
    "    data = data,\n",
    "    x = \"community_contact_children\",\n",
    "    y = \"community_contact_adults\",\n",
    "    WeightMF=True, \n",
    "    OmitDisability=True,\n",
    "    times = np.array(times),\n",
    "    norm = True, characteristic_time=community_attendance_median\n",
    ")\n",
    "community_contact, community_error = ModifyCM(community_contact, community_error , Nij)\n",
    "PolicyText(\"communal\", community_contact, community_error, np.array([[0.12]]), community_attendance_median/60.)\n",
    "PolicyText(\"female_communal\", community_contact, community_error, np.array([[0.12]]), community_attendance_median/60.)"
   ]
  },
  {
   "cell_type": "markdown",
   "metadata": {},
   "source": [
    "## Religious center"
   ]
  },
  {
   "cell_type": "code",
   "execution_count": null,
   "metadata": {},
   "outputs": [],
   "source": [
    "#Do you ever go to a religious meeting?\n",
    "Nij=np.unique(data[(data[\"religious\"] == \"Yes\") & (data[\"sex\"] == \"Male\")][\"age\"], return_counts=True)\n",
    "print(Nij)\n",
    "Nij = np.array([Nij[1][2], Nij[1][0]+Nij[1][1]])\n",
    "print(Nij)"
   ]
  },
  {
   "cell_type": "code",
   "execution_count": null,
   "metadata": {},
   "outputs": [],
   "source": [
    "Nij=np.unique(data[(data[\"religious\"] == \"Yes\") & (data[\"sex\"] == \"Female\")][\"age\"], return_counts=True)\n",
    "print(Nij)\n",
    "Nij = np.array([Nij[1][2], Nij[1][0]+Nij[1][1]])\n",
    "print(Nij)"
   ]
  },
  {
   "cell_type": "code",
   "execution_count": null,
   "metadata": {},
   "outputs": [],
   "source": [
    "Nij=np.unique(data[(data[\"religious\"] == \"Yes\") ][\"age\"], return_counts=True)\n",
    "print(Nij)\n",
    "Nij = np.array([Nij[1][2], Nij[1][0]+Nij[1][1]])\n",
    "print(Nij)"
   ]
  },
  {
   "cell_type": "code",
   "execution_count": null,
   "metadata": {},
   "outputs": [],
   "source": [
    "#When you go to a religious meeting, how much time do you spend there?\n",
    "times = GetBetterTimes(data,[\"religious_time\",\"religious_time_77\" ])\n",
    "religious_attendance_mean, religious_attendance_median = attendance(times)"
   ]
  },
  {
   "cell_type": "code",
   "execution_count": null,
   "metadata": {},
   "outputs": [],
   "source": [
    "religious_attendance_mean/60., religious_attendance_median/60."
   ]
  },
  {
   "cell_type": "code",
   "execution_count": null,
   "metadata": {
    "scrolled": false
   },
   "outputs": [],
   "source": [
    "#\"When you go to a religious meeting, approximately how many children do you come into contact with at the meeting (for example, talk to)?\",\n",
    "#\"When you go to religious meeting, approximately how many adults do you come into contact with at the meeting (for example, talk to)?\"\n",
    "print(\"Average over answers per unit time Sex norm remove disabled\")\n",
    "religious_contact, religious_error = contact_matrix(\n",
    "    data = data,\n",
    "    x = \"religious_contact_children\",\n",
    "    y = \"religious_contact_adults\",\n",
    "    WeightMF=True, \n",
    "    OmitDisability=False,\n",
    "    times = np.array(times),\n",
    "    norm = True, characteristic_time=religious_attendance_median\n",
    ")\n",
    "\n",
    "religious_contact, religious_error = ModifyCM(religious_contact, religious_error , Nij)\n",
    "PolicyText(\"religious\", religious_contact, religious_error, np.array([[0.12]]), religious_attendance_median/60.)\n",
    "\n",
    "print(\"\")\n",
    "print(\"Average over answers per unit time Sex norm\")\n",
    "religious_contact, religious_error = contact_matrix(\n",
    "    data = data,\n",
    "    x = \"religious_contact_children\",\n",
    "    y = \"religious_contact_adults\",\n",
    "    WeightMF=True, \n",
    "    OmitDisability=True,\n",
    "    times = np.array(times),\n",
    "    norm = True, characteristic_time=religious_attendance_median\n",
    ")\n",
    "religious_contact, religious_error = ModifyCM(religious_contact, religious_error , Nij)\n",
    "PolicyText(\"religious\", religious_contact, religious_error, np.array([[0.12]]), religious_attendance_median/60.)"
   ]
  },
  {
   "cell_type": "markdown",
   "metadata": {},
   "source": [
    "## Hand pump and latrine"
   ]
  },
  {
   "cell_type": "code",
   "execution_count": null,
   "metadata": {},
   "outputs": [],
   "source": [
    "Nij=np.unique(data[(data[\"pump_children\"] != None) ][\"age\"], return_counts=True)\n",
    "print(Nij)\n",
    "Nij = np.array([Nij[1][2], Nij[1][0]+Nij[1][1]])\n",
    "print(Nij)"
   ]
  },
  {
   "cell_type": "code",
   "execution_count": null,
   "metadata": {},
   "outputs": [],
   "source": [
    "#When you go to a water pump or latrine, how much time do you spend there?\n",
    "times = GetBetterTimes(data,[\"pump_time\",\"pump_time77\" ])\n",
    "pump_latrine_attendance_mean, pump_latrine_attendance_median = attendance(times)"
   ]
  },
  {
   "cell_type": "code",
   "execution_count": null,
   "metadata": {},
   "outputs": [],
   "source": [
    "pump_latrine_attendance_mean/60., pump_latrine_attendance_median/60. "
   ]
  },
  {
   "cell_type": "code",
   "execution_count": null,
   "metadata": {
    "scrolled": false
   },
   "outputs": [],
   "source": [
    "#\"When you go to a water pump or latrine, approximately how many children do you come into contact with(for example, talk to)?\",\n",
    "#\"When you go to water pump or latrine, approximately how many adults do you come into contact with(for example, talk to)?\"\n",
    "print(\"Average over answers per unit time Sex norm\")\n",
    "pump_latrine_contact, pump_latrine_error = contact_matrix(\n",
    "    data = data,\n",
    "    x = \"pump_children\",\n",
    "    y = \"pump_adults\",\n",
    "    WeightMF=True, \n",
    "    OmitDisability=False,\n",
    "    times = np.array(times),\n",
    "    norm = True, characteristic_time=pump_latrine_attendance_median\n",
    ")\n",
    "\n",
    "pump_latrine_contact, pump_latrine_error = ModifyCM(pump_latrine_contact, pump_latrine_error , Nij)\n",
    "PolicyText(\"pump_latrine\", pump_latrine_contact, pump_latrine_error, np.array([[0.02]]), pump_latrine_attendance_median/60.)\n",
    "\n",
    "\n",
    "print(\"\")\n",
    "print(\"Average over answers per unit time Sex norm remove disabled\")\n",
    "pump_latrine_contact, pump_latrine_error = contact_matrix(\n",
    "    data = data,\n",
    "    x = \"pump_children\",\n",
    "    y = \"pump_adults\",\n",
    "    times = np.array(times),\n",
    "    WeightMF=True, \n",
    "    OmitDisability=True,\n",
    "    norm = True, characteristic_time=pump_latrine_attendance_median\n",
    ")\n",
    "pump_latrine_contact, pump_latrine_error = ModifyCM(pump_latrine_contact, pump_latrine_error , Nij)\n",
    "PolicyText(\"pump_latrine\", pump_latrine_contact, pump_latrine_error, np.array([[0.02]]), pump_latrine_attendance_median/60.)"
   ]
  },
  {
   "cell_type": "code",
   "execution_count": null,
   "metadata": {},
   "outputs": [],
   "source": []
  }
 ],
 "metadata": {
  "kernelspec": {
   "display_name": "Python 3 (ipykernel)",
   "language": "python",
   "name": "python3"
  },
  "language_info": {
   "codemirror_mode": {
    "name": "ipython",
    "version": 3
   },
   "file_extension": ".py",
   "mimetype": "text/x-python",
   "name": "python",
   "nbconvert_exporter": "python",
   "pygments_lexer": "ipython3",
   "version": "3.10.6"
  }
 },
 "nbformat": 4,
 "nbformat_minor": 4
}
