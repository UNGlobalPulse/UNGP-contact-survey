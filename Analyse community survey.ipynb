{
 "cells": [
  {
   "cell_type": "code",
   "execution_count": 1,
   "metadata": {},
   "outputs": [],
   "source": [
    "import numpy as np\n",
    "import pandas as pd\n",
    "import matplotlib.pyplot as plt"
   ]
  },
  {
   "cell_type": "code",
   "execution_count": 5,
   "metadata": {},
   "outputs": [],
   "source": [
    "data_file = \"./survey_data/COVID-19_protection_measure.csv\""
   ]
  },
  {
   "cell_type": "code",
   "execution_count": 6,
   "metadata": {},
   "outputs": [],
   "source": [
    "data = pd.read_csv(data_file)"
   ]
  },
  {
   "cell_type": "code",
   "execution_count": 7,
   "metadata": {},
   "outputs": [],
   "source": [
    "def child_child(data, x):\n",
    "    return list(data[data[\"Age:\"] == \"Under 18\"][x].dropna())\n",
    "    \n",
    "def adult_adult(data, x):\n",
    "    return list(data[data[\"Age:\"].isin([\"Over 18 but under 60\", \"Over 60\"])][x].dropna())\n",
    "    \n",
    "def child_adult(data, x):\n",
    "    return list(data[data[\"Age:\"] == \"Under 18\"][x].dropna())\n",
    "    \n",
    "def adult_child(data, x):\n",
    "    return list(data[data[\"Age:\"].isin([\"Over 18 but under 60\", \"Over 60\"])][x].dropna())"
   ]
  },
  {
   "cell_type": "code",
   "execution_count": 8,
   "metadata": {},
   "outputs": [],
   "source": [
    "def contact_matrix(data, x, y):\n",
    "    c_c = np.median(child_child(data, x))\n",
    "    c_a = np.median(child_adult(data, y))\n",
    "    a_a = np.median(adult_adult(data, y))\n",
    "    a_c = np.median(adult_child(data, x))\n",
    "    return [[c_c,c_a],[a_c,a_a]]"
   ]
  },
  {
   "cell_type": "code",
   "execution_count": 9,
   "metadata": {},
   "outputs": [],
   "source": [
    "def attendance(main_counts, main_times, other_counts, other_times):\n",
    "\n",
    "    df = pd.DataFrame({'times': list(main_times+other_times), 'counts': list(main_counts)+list(other_counts)}).groupby('times').sum()\n",
    "    times = list(df.index)\n",
    "    counts = list(df.counts)\n",
    "    \n",
    "    assert len(times) == len(counts)\n",
    "    counts = np.array(counts)\n",
    "    times = np.array(times)\n",
    "    total = []\n",
    "    for idx, i in enumerate(counts):\n",
    "        for j in range(i):\n",
    "            total.append(float(times[idx]))\n",
    "    return np.mean(total), np.median(total)"
   ]
  },
  {
   "cell_type": "markdown",
   "metadata": {},
   "source": [
    "## Overview"
   ]
  },
  {
   "cell_type": "code",
   "execution_count": 10,
   "metadata": {},
   "outputs": [
    {
     "name": "stdout",
     "output_type": "stream",
     "text": [
      "There are 309 participants\n"
     ]
    }
   ],
   "source": [
    "print (\"There are {} participants\".format(len(data)))"
   ]
  },
  {
   "cell_type": "code",
   "execution_count": 11,
   "metadata": {},
   "outputs": [
    {
     "data": {
      "text/plain": [
       "(array(['Female', 'Male', 'Other'], dtype=object), array([152, 155,   2]))"
      ]
     },
     "execution_count": 11,
     "metadata": {},
     "output_type": "execute_result"
    }
   ],
   "source": [
    "np.unique(data[\"Sex:\"], return_counts=True)"
   ]
  },
  {
   "cell_type": "code",
   "execution_count": 12,
   "metadata": {},
   "outputs": [
    {
     "data": {
      "text/plain": [
       "(array(['Over 18 but under 60', 'Over 60', 'Under 18'], dtype=object),\n",
       " array([115, 102,  92]))"
      ]
     },
     "execution_count": 12,
     "metadata": {},
     "output_type": "execute_result"
    }
   ],
   "source": [
    "np.unique(data[\"Age:\"], return_counts=True)"
   ]
  },
  {
   "cell_type": "code",
   "execution_count": 13,
   "metadata": {},
   "outputs": [
    {
     "data": {
      "text/plain": [
       "(array(['No', 'Yes'], dtype=object), array([261,  48]))"
      ]
     },
     "execution_count": 13,
     "metadata": {},
     "output_type": "execute_result"
    }
   ],
   "source": [
    "np.unique(data[\"Disability:\"], return_counts=True)"
   ]
  },
  {
   "cell_type": "markdown",
   "metadata": {},
   "source": [
    "## Face mask"
   ]
  },
  {
   "cell_type": "code",
   "execution_count": 14,
   "metadata": {},
   "outputs": [
    {
     "data": {
      "text/plain": [
       "(array(['No', 'Yes'], dtype=object), array([ 58, 251]))"
      ]
     },
     "execution_count": 14,
     "metadata": {},
     "output_type": "execute_result"
    }
   ],
   "source": [
    "np.unique(data[\"Do you have access to a face mask?\"], return_counts=True)"
   ]
  },
  {
   "cell_type": "code",
   "execution_count": 15,
   "metadata": {},
   "outputs": [
    {
     "data": {
      "text/plain": [
       "(array(['Female', 'Male'], dtype=object), array([31, 27]))"
      ]
     },
     "execution_count": 15,
     "metadata": {},
     "output_type": "execute_result"
    }
   ],
   "source": [
    "np.unique(data[data[\"Do you have access to a face mask?\"] == \"No\"][\"Sex:\"], return_counts=True)"
   ]
  },
  {
   "cell_type": "code",
   "execution_count": 16,
   "metadata": {},
   "outputs": [
    {
     "data": {
      "text/plain": [
       "(array(['Over 18 but under 60', 'Over 60', 'Under 18'], dtype=object),\n",
       " array([15, 26, 17]))"
      ]
     },
     "execution_count": 16,
     "metadata": {},
     "output_type": "execute_result"
    }
   ],
   "source": [
    "np.unique(data[data[\"Do you have access to a face mask?\"] == \"No\"][\"Age:\"], return_counts=True)"
   ]
  },
  {
   "cell_type": "code",
   "execution_count": 17,
   "metadata": {},
   "outputs": [
    {
     "data": {
      "text/plain": [
       "(array(['No', 'Yes'], dtype=object), array([45, 13]))"
      ]
     },
     "execution_count": 17,
     "metadata": {},
     "output_type": "execute_result"
    }
   ],
   "source": [
    "np.unique(data[data[\"Do you have access to a face mask?\"] == \"No\"][\"Disability:\"], return_counts=True)\n",
    "## Note: need to scale"
   ]
  },
  {
   "cell_type": "markdown",
   "metadata": {},
   "source": [
    "## Learning centers"
   ]
  },
  {
   "cell_type": "code",
   "execution_count": 18,
   "metadata": {},
   "outputs": [
    {
     "data": {
      "text/plain": [
       "(array(['No', 'Yes'], dtype=object), array([193, 116]))"
      ]
     },
     "execution_count": 18,
     "metadata": {},
     "output_type": "execute_result"
    }
   ],
   "source": [
    "np.unique(data[\"When the learning centers were open, did you attend any formal education?\"], return_counts=True)"
   ]
  },
  {
   "cell_type": "code",
   "execution_count": 19,
   "metadata": {},
   "outputs": [
    {
     "data": {
      "text/plain": [
       "(array(['Over 18 but under 60', 'Over 60', 'Under 18'], dtype=object),\n",
       " array([22,  3, 37]))"
      ]
     },
     "execution_count": 19,
     "metadata": {},
     "output_type": "execute_result"
    }
   ],
   "source": [
    "np.unique(data[(data[\"When the learning centers were open, did you attend any formal education?\"] == \"Yes\") & (data[\"Sex:\"] == \"Male\")][\"Age:\"], return_counts=True)"
   ]
  },
  {
   "cell_type": "code",
   "execution_count": 20,
   "metadata": {},
   "outputs": [
    {
     "data": {
      "text/plain": [
       "(array(['Over 18 but under 60', 'Over 60', 'Under 18'], dtype=object),\n",
       " array([13,  4, 35]))"
      ]
     },
     "execution_count": 20,
     "metadata": {},
     "output_type": "execute_result"
    }
   ],
   "source": [
    "np.unique(data[(data[\"When the learning centers were open, did you attend any formal education?\"] == \"Yes\") & (data[\"Sex:\"] == \"Female\")][\"Age:\"], return_counts=True)"
   ]
  },
  {
   "cell_type": "code",
   "execution_count": 21,
   "metadata": {},
   "outputs": [
    {
     "data": {
      "text/plain": [
       "(array(['No', 'Yes'], dtype=object), array([108,   8]))"
      ]
     },
     "execution_count": 21,
     "metadata": {},
     "output_type": "execute_result"
    }
   ],
   "source": [
    "np.unique(data[data[\"When the learning centers were open, did you attend any formal education?\"] == \"Yes\"][\"Disability:\"], return_counts=True)\n",
    "## Note: need to scale"
   ]
  },
  {
   "cell_type": "code",
   "execution_count": 22,
   "metadata": {},
   "outputs": [
    {
     "data": {
      "text/plain": [
       "array(['1 hour', '1 hour and 30 minutes', '2 hours', 'other'],\n",
       "      dtype=object)"
      ]
     },
     "execution_count": 22,
     "metadata": {},
     "output_type": "execute_result"
    }
   ],
   "source": [
    "main_times, main_counts = np.unique(data[\"When you attended formal education, how much time do you spend there?\"].dropna(), return_counts=True)\n",
    "main_times"
   ]
  },
  {
   "cell_type": "code",
   "execution_count": 23,
   "metadata": {},
   "outputs": [],
   "source": [
    "main_times = [60,90,120]\n",
    "main_counts = main_counts[:-1]"
   ]
  },
  {
   "cell_type": "code",
   "execution_count": 24,
   "metadata": {},
   "outputs": [
    {
     "data": {
      "text/plain": [
       "array(['3 hours', '3 hrs', '30 minutes ', '30minutes', '35 minutes ', '4',\n",
       "       '4 hours', '40 minutes ', '50 minutes '], dtype=object)"
      ]
     },
     "execution_count": 24,
     "metadata": {},
     "output_type": "execute_result"
    }
   ],
   "source": [
    "other_times, other_counts = np.unique(data[\"Please specify\"].dropna(), return_counts=True)\n",
    "other_times"
   ]
  },
  {
   "cell_type": "code",
   "execution_count": 25,
   "metadata": {},
   "outputs": [],
   "source": [
    "other_times = [180,180,30,30,35,240,240,40,50]"
   ]
  },
  {
   "cell_type": "code",
   "execution_count": 26,
   "metadata": {},
   "outputs": [],
   "source": [
    "lc_attendance_mean, lc_attendance_median = attendance(main_counts, main_times, other_counts, other_times)"
   ]
  },
  {
   "cell_type": "code",
   "execution_count": 27,
   "metadata": {},
   "outputs": [
    {
     "data": {
      "text/plain": [
       "(1.5610632183908044, 1.5)"
      ]
     },
     "execution_count": 27,
     "metadata": {},
     "output_type": "execute_result"
    }
   ],
   "source": [
    "lc_attendance_mean/60., lc_attendance_median/60."
   ]
  },
  {
   "cell_type": "code",
   "execution_count": 28,
   "metadata": {},
   "outputs": [],
   "source": [
    "lc_contact = contact_matrix(\n",
    "    data = data,\n",
    "    x = \"When you attended formal education, approximately how many children do you come into contact with (for example, talk to)?\",\n",
    "    y = \"When you attended formal education, approximately how many adults do you come into contact with (for example, talk to)?\"\n",
    ")"
   ]
  },
  {
   "cell_type": "code",
   "execution_count": 29,
   "metadata": {},
   "outputs": [
    {
     "data": {
      "text/plain": [
       "[[10.0, 2.0], [5.0, 3.5]]"
      ]
     },
     "execution_count": 29,
     "metadata": {},
     "output_type": "execute_result"
    }
   ],
   "source": [
    "lc_contact"
   ]
  },
  {
   "cell_type": "markdown",
   "metadata": {},
   "source": [
    "## Food distribution center"
   ]
  },
  {
   "cell_type": "code",
   "execution_count": 30,
   "metadata": {},
   "outputs": [
    {
     "data": {
      "text/plain": [
       "(array(['Over 18 but under 60', 'Over 60', 'Under 18'], dtype=object),\n",
       " array([54, 29, 14]))"
      ]
     },
     "execution_count": 30,
     "metadata": {},
     "output_type": "execute_result"
    }
   ],
   "source": [
    "np.unique(data[(data[\"Do you ever go to a food distribution center?\"] == \"Yes\") & (data[\"Sex:\"] == \"Male\")][\"Age:\"], return_counts=True)"
   ]
  },
  {
   "cell_type": "code",
   "execution_count": 31,
   "metadata": {},
   "outputs": [
    {
     "data": {
      "text/plain": [
       "(array(['Over 18 but under 60', 'Over 60', 'Under 18'], dtype=object),\n",
       " array([33, 20,  5]))"
      ]
     },
     "execution_count": 31,
     "metadata": {},
     "output_type": "execute_result"
    }
   ],
   "source": [
    "np.unique(data[(data[\"Do you ever go to a food distribution center?\"] == \"Yes\") & (data[\"Sex:\"] == \"Female\")][\"Age:\"], return_counts=True)"
   ]
  },
  {
   "cell_type": "code",
   "execution_count": 32,
   "metadata": {},
   "outputs": [
    {
     "data": {
      "text/plain": [
       "array(['0 minutes', '1 hour', '1 hour and 30 minutes', '2 hours', 'other'],\n",
       "      dtype=object)"
      ]
     },
     "execution_count": 32,
     "metadata": {},
     "output_type": "execute_result"
    }
   ],
   "source": [
    "main_times, main_counts = np.unique(data[\"When you go to a food distribution center, how much time do you spend there?\"].dropna(), return_counts=True)\n",
    "main_times"
   ]
  },
  {
   "cell_type": "code",
   "execution_count": 33,
   "metadata": {},
   "outputs": [],
   "source": [
    "main_times = [60,90,120]\n",
    "main_counts = main_counts[1:-1]"
   ]
  },
  {
   "cell_type": "code",
   "execution_count": 34,
   "metadata": {},
   "outputs": [
    {
     "data": {
      "text/plain": [
       "array(['10', '10 minutes', '10 minutes ', '15', '15 minute ', '15min',\n",
       "       '20', '20 minutes', '20 minutes ', '20/30minutes', '20min',\n",
       "       '3 hour ', '3 hours', '30', '30 Min', '30 min', '30 minutes',\n",
       "       '30 minutes ', '30 to 45 min', '30min', '4 hour', '4 hour ',\n",
       "       '50 minutes ', 'Half an hour', 'Half an hour.'], dtype=object)"
      ]
     },
     "execution_count": 34,
     "metadata": {},
     "output_type": "execute_result"
    }
   ],
   "source": [
    "other_times, other_counts = np.unique(data[\"Please specify.1\"].dropna(), return_counts=True)\n",
    "other_times"
   ]
  },
  {
   "cell_type": "code",
   "execution_count": 35,
   "metadata": {},
   "outputs": [],
   "source": [
    "other_times = [10,10,10,15,15,15,20,20,20,25,20,180,180,30,30,30,30,30,37.5,30,240,240,50,30,30]"
   ]
  },
  {
   "cell_type": "code",
   "execution_count": 36,
   "metadata": {},
   "outputs": [],
   "source": [
    "dc_attendance_mean, dc_attendance_median = attendance(main_counts, main_times, other_counts, other_times)"
   ]
  },
  {
   "cell_type": "code",
   "execution_count": 37,
   "metadata": {},
   "outputs": [
    {
     "data": {
      "text/plain": [
       "(1.1765350877192982, 1.0)"
      ]
     },
     "execution_count": 37,
     "metadata": {},
     "output_type": "execute_result"
    }
   ],
   "source": [
    "dc_attendance_mean/60., dc_attendance_median/60."
   ]
  },
  {
   "cell_type": "code",
   "execution_count": 38,
   "metadata": {},
   "outputs": [],
   "source": [
    "dc_contact = contact_matrix(\n",
    "    data = data,\n",
    "    x = \"When you go to a food distribution center, approximately how many children do you come into contact with at the center (for example, talk to)?\",\n",
    "    y = \"When you go to a food distribution center, approximately how many adults do you come into contact with at the center (for example, talk to)?\"\n",
    ")"
   ]
  },
  {
   "cell_type": "code",
   "execution_count": 39,
   "metadata": {},
   "outputs": [
    {
     "data": {
      "text/plain": [
       "[[5.0, 9.0], [2.0, 11.0]]"
      ]
     },
     "execution_count": 39,
     "metadata": {},
     "output_type": "execute_result"
    }
   ],
   "source": [
    "dc_contact"
   ]
  },
  {
   "cell_type": "markdown",
   "metadata": {},
   "source": [
    "## E-voucher outlet"
   ]
  },
  {
   "cell_type": "code",
   "execution_count": 40,
   "metadata": {},
   "outputs": [
    {
     "data": {
      "text/plain": [
       "(array(['Over 18 but under 60', 'Over 60', 'Under 18'], dtype=object),\n",
       " array([41, 22,  8]))"
      ]
     },
     "execution_count": 40,
     "metadata": {},
     "output_type": "execute_result"
    }
   ],
   "source": [
    "np.unique(data[(data[\"Do you ever go to an e-voucher outlet?\"] == \"Yes\") & (data[\"Sex:\"] == \"Male\")][\"Age:\"], return_counts=True)"
   ]
  },
  {
   "cell_type": "code",
   "execution_count": 41,
   "metadata": {},
   "outputs": [
    {
     "data": {
      "text/plain": [
       "(array(['Over 18 but under 60', 'Over 60', 'Under 18'], dtype=object),\n",
       " array([24, 16,  5]))"
      ]
     },
     "execution_count": 41,
     "metadata": {},
     "output_type": "execute_result"
    }
   ],
   "source": [
    "np.unique(data[(data[\"Do you ever go to an e-voucher outlet?\"] == \"Yes\") & (data[\"Sex:\"] == \"Female\")][\"Age:\"], return_counts=True)"
   ]
  },
  {
   "cell_type": "code",
   "execution_count": 42,
   "metadata": {},
   "outputs": [
    {
     "data": {
      "text/plain": [
       "array(['0 minutes', '1 hour', '1 hour and 30 minutes', '2 hours', 'other'],\n",
       "      dtype=object)"
      ]
     },
     "execution_count": 42,
     "metadata": {},
     "output_type": "execute_result"
    }
   ],
   "source": [
    "main_times, main_counts = np.unique(data[\"When you go to a food distribution center, how much time do you spend there?\"].dropna(), return_counts=True)\n",
    "main_times"
   ]
  },
  {
   "cell_type": "code",
   "execution_count": 43,
   "metadata": {},
   "outputs": [],
   "source": [
    "main_times = [60,90,120]\n",
    "main_counts = main_counts[1:-1]"
   ]
  },
  {
   "cell_type": "code",
   "execution_count": 44,
   "metadata": {},
   "outputs": [
    {
     "data": {
      "text/plain": [
       "array(['10', '10 minute', '10 minutes', '10 minutes ', '10 to 20 min',\n",
       "       '12minutes', '15', '15 minutes', '15 minutes ', '15min',\n",
       "       '15minutes', '15sec', '2 hour ', '20', '20 min', '20 minutes',\n",
       "       '20 minutes ', '20min', '20minutes', '23', '25mi', '30',\n",
       "       '30 minutes', '30 minutes ', '30 to 45 min', '30min', '30minutes',\n",
       "       '40minutes', '5 minute', '5 minutes', '5 to 10 min'], dtype=object)"
      ]
     },
     "execution_count": 44,
     "metadata": {},
     "output_type": "execute_result"
    }
   ],
   "source": [
    "other_times, other_counts = np.unique(data[\"Please specify.2\"].dropna(), return_counts=True)\n",
    "other_times"
   ]
  },
  {
   "cell_type": "code",
   "execution_count": 45,
   "metadata": {},
   "outputs": [],
   "source": [
    "other_times = [10,10,10,10,15,12,15,15,15,15,15,15,120,20,20,20,20,20,20,23,25,30,30,30,37.5,30,30,40,5,5,7.5]"
   ]
  },
  {
   "cell_type": "code",
   "execution_count": 46,
   "metadata": {},
   "outputs": [],
   "source": [
    "voucher_attendance_mean, voucher_attendance_median = attendance(main_counts, main_times, other_counts, other_times)"
   ]
  },
  {
   "cell_type": "code",
   "execution_count": 47,
   "metadata": {},
   "outputs": [
    {
     "data": {
      "text/plain": [
       "(0.9916173570019724, 1.0)"
      ]
     },
     "execution_count": 47,
     "metadata": {},
     "output_type": "execute_result"
    }
   ],
   "source": [
    "voucher_attendance_mean/60., voucher_attendance_median/60."
   ]
  },
  {
   "cell_type": "code",
   "execution_count": 48,
   "metadata": {},
   "outputs": [],
   "source": [
    "voucher_contact = contact_matrix(\n",
    "    data = data,\n",
    "    x = \"When you go to an outlet, approximately how many children do you come into contact with at the outlet (for example, talk to)?\",\n",
    "    y = \"When you go to an outlet, approximately how many adults do you come into contact with at the outlet (for example, talk to)?\",\n",
    ")"
   ]
  },
  {
   "cell_type": "code",
   "execution_count": 49,
   "metadata": {},
   "outputs": [
    {
     "data": {
      "text/plain": [
       "[[0.0, 6.0], [0.0, 9.0]]"
      ]
     },
     "execution_count": 49,
     "metadata": {},
     "output_type": "execute_result"
    }
   ],
   "source": [
    "voucher_contact"
   ]
  },
  {
   "cell_type": "markdown",
   "metadata": {},
   "source": [
    "## Community center"
   ]
  },
  {
   "cell_type": "code",
   "execution_count": 50,
   "metadata": {},
   "outputs": [
    {
     "data": {
      "text/plain": [
       "(array(['Over 18 but under 60', 'Over 60', 'Under 18'], dtype=object),\n",
       " array([41, 25, 33]))"
      ]
     },
     "execution_count": 50,
     "metadata": {},
     "output_type": "execute_result"
    }
   ],
   "source": [
    "np.unique(data[(data[\"Do you ever go to a community center?\"] == \"Yes\") & (data[\"Sex:\"] == \"Male\")][\"Age:\"], return_counts=True)"
   ]
  },
  {
   "cell_type": "code",
   "execution_count": 51,
   "metadata": {},
   "outputs": [
    {
     "data": {
      "text/plain": [
       "(array(['Over 18 but under 60', 'Over 60', 'Under 18'], dtype=object),\n",
       " array([32, 27, 27]))"
      ]
     },
     "execution_count": 51,
     "metadata": {},
     "output_type": "execute_result"
    }
   ],
   "source": [
    "np.unique(data[(data[\"Do you ever go to a community center?\"] == \"Yes\") & (data[\"Sex:\"] == \"Female\")][\"Age:\"], return_counts=True)"
   ]
  },
  {
   "cell_type": "code",
   "execution_count": 52,
   "metadata": {},
   "outputs": [
    {
     "data": {
      "text/plain": [
       "array(['1 hour', '1 hour and 30 minutes', '2 hours', 'other'],\n",
       "      dtype=object)"
      ]
     },
     "execution_count": 52,
     "metadata": {},
     "output_type": "execute_result"
    }
   ],
   "source": [
    "main_times, main_counts = np.unique(data[\"When you go to a community center, how much time do you spend there?\"].dropna(), return_counts=True)\n",
    "main_times"
   ]
  },
  {
   "cell_type": "code",
   "execution_count": 53,
   "metadata": {},
   "outputs": [],
   "source": [
    "main_times = [60,90,120]\n",
    "main_counts = main_counts[:-1]"
   ]
  },
  {
   "cell_type": "code",
   "execution_count": 54,
   "metadata": {},
   "outputs": [
    {
     "data": {
      "text/plain": [
       "array(['10 min', '15 minutes', '2.5 hours', '20', '20 minutes ',\n",
       "       '25 minutes ', '3 hours', '30', '30 min', '30 minutes',\n",
       "       '30 minutes ', '30 to 45 min', '30mins', '3o minutes', '4 hour',\n",
       "       '4 hour ', '4 hours', '40min', '45 min', '50 minutes ',\n",
       "       'half an hour', 'half an hour '], dtype=object)"
      ]
     },
     "execution_count": 54,
     "metadata": {},
     "output_type": "execute_result"
    }
   ],
   "source": [
    "other_times, other_counts = np.unique(data[\"Please specify.3\"].dropna(), return_counts=True)\n",
    "other_times"
   ]
  },
  {
   "cell_type": "code",
   "execution_count": 55,
   "metadata": {},
   "outputs": [],
   "source": [
    "other_times = [10,15,150,20,20,25,180,30,30,30,30,37.5,30,30,240,240,240,40,45,50,30,30]"
   ]
  },
  {
   "cell_type": "code",
   "execution_count": 56,
   "metadata": {},
   "outputs": [],
   "source": [
    "community_attendance_mean, community_attendance_median  = attendance(main_counts, main_times, other_counts, other_times)"
   ]
  },
  {
   "cell_type": "code",
   "execution_count": 57,
   "metadata": {},
   "outputs": [
    {
     "data": {
      "text/plain": [
       "(1.249099099099099, 1.0)"
      ]
     },
     "execution_count": 57,
     "metadata": {},
     "output_type": "execute_result"
    }
   ],
   "source": [
    "community_attendance_mean/60., community_attendance_median/60."
   ]
  },
  {
   "cell_type": "code",
   "execution_count": 58,
   "metadata": {},
   "outputs": [],
   "source": [
    "community_contact = contact_matrix(\n",
    "    data = data,\n",
    "    x = \"When you go to a community center, approximately how many children do you come into contact with at the center (for example, talk to)?\",\n",
    "    y = \"When you go to a community center, approximately how many adults do you come into contact with at the center (for example, talk to)?\"\n",
    ")"
   ]
  },
  {
   "cell_type": "code",
   "execution_count": 59,
   "metadata": {},
   "outputs": [
    {
     "data": {
      "text/plain": [
       "[[7.0, 4.5], [4.0, 8.0]]"
      ]
     },
     "execution_count": 59,
     "metadata": {},
     "output_type": "execute_result"
    }
   ],
   "source": [
    "community_contact"
   ]
  },
  {
   "cell_type": "markdown",
   "metadata": {},
   "source": [
    "## Religious center"
   ]
  },
  {
   "cell_type": "code",
   "execution_count": 60,
   "metadata": {},
   "outputs": [
    {
     "data": {
      "text/plain": [
       "(array(['Over 18 but under 60', 'Over 60', 'Under 18'], dtype=object),\n",
       " array([40, 41, 26]))"
      ]
     },
     "execution_count": 60,
     "metadata": {},
     "output_type": "execute_result"
    }
   ],
   "source": [
    "np.unique(data[(data[\"Do you ever go to a religious meeting?\"] == \"Yes\") & (data[\"Sex:\"] == \"Male\")][\"Age:\"], return_counts=True)"
   ]
  },
  {
   "cell_type": "code",
   "execution_count": 61,
   "metadata": {},
   "outputs": [
    {
     "data": {
      "text/plain": [
       "(array(['Over 18 but under 60', 'Over 60', 'Under 18'], dtype=object),\n",
       " array([37, 34, 18]))"
      ]
     },
     "execution_count": 61,
     "metadata": {},
     "output_type": "execute_result"
    }
   ],
   "source": [
    "np.unique(data[(data[\"Do you ever go to a religious meeting?\"] == \"Yes\") & (data[\"Sex:\"] == \"Female\")][\"Age:\"], return_counts=True)"
   ]
  },
  {
   "cell_type": "code",
   "execution_count": 62,
   "metadata": {},
   "outputs": [
    {
     "data": {
      "text/plain": [
       "array(['0 minutes', '1 hour', '1 hour and 30 minutes', '2 hours', 'other'],\n",
       "      dtype=object)"
      ]
     },
     "execution_count": 62,
     "metadata": {},
     "output_type": "execute_result"
    }
   ],
   "source": [
    "main_times, main_counts = np.unique(data[\"When you go to a religious meeting, how much time do you spend there?\"].dropna(), return_counts=True)\n",
    "main_times"
   ]
  },
  {
   "cell_type": "code",
   "execution_count": 63,
   "metadata": {},
   "outputs": [],
   "source": [
    "main_times = [60,90,120]\n",
    "main_counts = main_counts[1:-1]"
   ]
  },
  {
   "cell_type": "code",
   "execution_count": 64,
   "metadata": {},
   "outputs": [
    {
     "data": {
      "text/plain": [
       "array(['20', '20 Minutes ', '20minit', '20minutes', '25 minutes',\n",
       "       '3 hours', '30', '30 min', '30 minutes', '30 minutes ',\n",
       "       '30 to 45 min', '30min', '30minutes', '34minutes', '35minutes',\n",
       "       '40 minutes', '40 minutes ', '45', '45 min'], dtype=object)"
      ]
     },
     "execution_count": 64,
     "metadata": {},
     "output_type": "execute_result"
    }
   ],
   "source": [
    "other_times, other_counts = np.unique(data[\"Please specify.4\"].dropna(), return_counts=True)\n",
    "other_times"
   ]
  },
  {
   "cell_type": "code",
   "execution_count": 65,
   "metadata": {},
   "outputs": [],
   "source": [
    "other_times = [20,20,20,20,25,180,30,30,30,30,37.5,30,30,34,35,40,40,45,45]"
   ]
  },
  {
   "cell_type": "code",
   "execution_count": 66,
   "metadata": {},
   "outputs": [],
   "source": [
    "religious_attendance_mean, religious_attendance_median = attendance(main_counts, main_times, other_counts, other_times)"
   ]
  },
  {
   "cell_type": "code",
   "execution_count": 67,
   "metadata": {},
   "outputs": [
    {
     "data": {
      "text/plain": [
       "(1.1891156462585035, 1.0)"
      ]
     },
     "execution_count": 67,
     "metadata": {},
     "output_type": "execute_result"
    }
   ],
   "source": [
    "religious_attendance_mean/60., religious_attendance_median/60."
   ]
  },
  {
   "cell_type": "code",
   "execution_count": 68,
   "metadata": {},
   "outputs": [],
   "source": [
    "religious_contact = contact_matrix(\n",
    "    data = data,\n",
    "    x = \"When you go to a religious meeting, approximately how many children do you come into contact with at the meeting (for example, talk to)?\",\n",
    "    y = \"When you go to religious meeting, approximately how many adults do you come into contact with at the meeting (for example, talk to)?\"\n",
    ")"
   ]
  },
  {
   "cell_type": "code",
   "execution_count": 69,
   "metadata": {},
   "outputs": [
    {
     "data": {
      "text/plain": [
       "[[5.0, 9.0], [2.0, 10.0]]"
      ]
     },
     "execution_count": 69,
     "metadata": {},
     "output_type": "execute_result"
    }
   ],
   "source": [
    "religious_contact"
   ]
  },
  {
   "cell_type": "markdown",
   "metadata": {},
   "source": [
    "## Hand pump and latrine"
   ]
  },
  {
   "cell_type": "code",
   "execution_count": 70,
   "metadata": {},
   "outputs": [
    {
     "data": {
      "text/plain": [
       "array(['0 minutes', '1 hour', '1 hour and 30 minutes', '2 hours', 'other'],\n",
       "      dtype=object)"
      ]
     },
     "execution_count": 70,
     "metadata": {},
     "output_type": "execute_result"
    }
   ],
   "source": [
    "main_times, main_counts = np.unique(data[\"When you go to a water pump or latrine, how much time do you spend there?\"].dropna(), return_counts=True)\n",
    "main_times"
   ]
  },
  {
   "cell_type": "code",
   "execution_count": 71,
   "metadata": {},
   "outputs": [],
   "source": [
    "main_times = [60,120,180]\n",
    "main_counts = main_counts[1:-1]"
   ]
  },
  {
   "cell_type": "code",
   "execution_count": 72,
   "metadata": {},
   "outputs": [
    {
     "data": {
      "text/plain": [
       "array(['10', '10  minutes ', '10 Minutes', '10 min', '10 minute',\n",
       "       '10 minutes', '10 minutes ', '10 to 15 minutes ', '10 to 20 min',\n",
       "       '10minutes', '12 minutes', '12 minutes ', '15', '15 minute',\n",
       "       '15 minute \\n', '15 minutes', '15 minutes ', '15min', '15mins',\n",
       "       '15minutes', '17 minutes', '18 minutes ', '2 minutes',\n",
       "       '2 to 3 min', '2 to 3 min ', '2.5 hours', '20', '20 min',\n",
       "       '20 minute ', '20 minutes', '20 minutes ', '20 to 25 minutes ',\n",
       "       '20min', '20mins in water pump and 15min in latrine', '20minutes',\n",
       "       '24', '25 minute', '25 minutes', '25 minutes ', '25min',\n",
       "       '29 minutes', '29minutes', '3 to 5 min', '30', '30 Minutes ',\n",
       "       '30 minute ', '30 minutes', '30 mnt',\n",
       "       '30mins in water pumps and 15min in latrine',\n",
       "       '30mins in water pumps and 15mins in latrin',\n",
       "       '30mins water pumps and 15mins in latrine', '30minutes',\n",
       "       '35 minute ', '3min', '3–5 minutes ', '40 minutes', '40mnt',\n",
       "       '45minutes', '5 Minutes', '5 minutes', '5 to 10', '5 to 10 min',\n",
       "       '50min', '7 minutes', 'Half an hour', 'Need  Other  help',\n",
       "       'Need  Other help ',\n",
       "       'She do not go to water pump because she has a son.'], dtype=object)"
      ]
     },
     "execution_count": 72,
     "metadata": {},
     "output_type": "execute_result"
    }
   ],
   "source": [
    "other_times, other_counts = np.unique(data[\"Please specify.5\"].dropna(), return_counts=True)\n",
    "other_times"
   ]
  },
  {
   "cell_type": "code",
   "execution_count": 73,
   "metadata": {},
   "outputs": [],
   "source": [
    "other_times = [10,10,10,10,10,10,10,12.5,15,10,12,12,15,15,15,15,15,15,15,15,17,18,2,2.5,2.5,150,20,20,20,20,20,22.5,20,17.5,20,24,25,25,25,25,29,29,4,30,30,30,30,30,22.5,22.5,22.5,30,35,3,4,40,40,45,5,5,7.5,7.5,50,7,30]"
   ]
  },
  {
   "cell_type": "code",
   "execution_count": 74,
   "metadata": {},
   "outputs": [],
   "source": [
    "other_counts = other_counts[:-3]"
   ]
  },
  {
   "cell_type": "code",
   "execution_count": 75,
   "metadata": {},
   "outputs": [],
   "source": [
    "pump_latrine_attendance_mean, pump_latrine_attendance_median = attendance(main_counts, main_times, other_counts, other_times)"
   ]
  },
  {
   "cell_type": "code",
   "execution_count": 76,
   "metadata": {},
   "outputs": [
    {
     "data": {
      "text/plain": [
       "(0.7948412698412698, 0.5)"
      ]
     },
     "execution_count": 76,
     "metadata": {},
     "output_type": "execute_result"
    }
   ],
   "source": [
    "pump_latrine_attendance_mean/60., pump_latrine_attendance_median/60. "
   ]
  },
  {
   "cell_type": "code",
   "execution_count": 77,
   "metadata": {},
   "outputs": [],
   "source": [
    "pump_latrine_contact = contact_matrix(\n",
    "    data = data,\n",
    "    x = \"When you go to a water pump or latrine, approximately how many children do you come into contact with(for example, talk to)?\",\n",
    "    y = \"When you go to water pump or latrine, approximately how many adults do you come into contact with(for example, talk to)?\"\n",
    ")"
   ]
  },
  {
   "cell_type": "code",
   "execution_count": 78,
   "metadata": {},
   "outputs": [
    {
     "data": {
      "text/plain": [
       "[[4.0, 3.0], [3.0, 5.0]]"
      ]
     },
     "execution_count": 78,
     "metadata": {},
     "output_type": "execute_result"
    }
   ],
   "source": [
    "pump_latrine_contact"
   ]
  }
 ],
 "metadata": {
  "kernelspec": {
   "display_name": "campmodelling",
   "language": "python",
   "name": "campmodelling"
  },
  "language_info": {
   "codemirror_mode": {
    "name": "ipython",
    "version": 3
   },
   "file_extension": ".py",
   "mimetype": "text/x-python",
   "name": "python",
   "nbconvert_exporter": "python",
   "pygments_lexer": "ipython3",
   "version": "3.7.6"
  }
 },
 "nbformat": 4,
 "nbformat_minor": 4
}
