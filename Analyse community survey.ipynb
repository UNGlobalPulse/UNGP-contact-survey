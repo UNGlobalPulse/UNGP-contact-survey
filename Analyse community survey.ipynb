{
 "cells": [
  {
   "cell_type": "code",
   "execution_count": 1,
   "metadata": {},
   "outputs": [],
   "source": [
    "import numpy as np\n",
    "np.set_printoptions(precision=2)\n",
    "import pandas as pd\n",
    "import matplotlib.pyplot as plt\n",
    "from scipy.stats import pearsonr\n",
    "from matplotlib.offsetbox import AnchoredText\n",
    "\n",
    "from scipy.stats import bootstrap #Need Scipy 1.8.0"
   ]
  },
  {
   "cell_type": "code",
   "execution_count": 2,
   "metadata": {},
   "outputs": [],
   "source": [
    "#For formatting for interation.yamls\n",
    "def MatrixString(matrix):\n",
    "    string = \"[\"\n",
    "    for i in range(matrix.shape[0]):\n",
    "        string += \"[\"\n",
    "        for j in range(matrix.shape[1]):\n",
    "            string += \"%.2f\" % matrix[i,j]\n",
    "            if j < matrix.shape[1]-1:\n",
    "                string+=\",\"\n",
    "        string+=\"]\"\n",
    "        if i < matrix.shape[0]-1:\n",
    "                string+=\",\"\n",
    "    string+=\"]\"\n",
    "    return string\n",
    "\n",
    "def PolicyText(Type, contacts, contacts_err, proportional_physical, characteristic_time):\n",
    "    print(\"  %s:\" % Type)\n",
    "    print(\"    contacts: %s\" % MatrixString(contacts))\n",
    "    print(\"    contacts_err: %s\" % MatrixString(contacts_err))\n",
    "    print(\"    proportion_physical: %s\" % MatrixString(proportional_physical))\n",
    "    print(\"    characteristic_time: %.2f\" % characteristic_time)"
   ]
  },
  {
   "cell_type": "code",
   "execution_count": 3,
   "metadata": {},
   "outputs": [],
   "source": [
    "data_file = \"../Downloaded_Items/UNHCR BGD 2020 Protection Measures COVID 19.csv\""
   ]
  },
  {
   "cell_type": "code",
   "execution_count": 4,
   "metadata": {},
   "outputs": [],
   "source": [
    "data = pd.read_csv(data_file)\n",
    "NPop = np.array([295901,274933]) #N children N Adults"
   ]
  },
  {
   "cell_type": "code",
   "execution_count": 5,
   "metadata": {
    "scrolled": true
   },
   "outputs": [
    {
     "name": "stdout",
     "output_type": "stream",
     "text": [
      "'3 hrs' : ,\n",
      "'30 to 45 min' : ,\n",
      "'30 mnt' : ,\n",
      "'12minutes' : ,\n",
      "'15 minutes ' : ,\n",
      "'20 minutes ' : ,\n",
      "'35 minutes ' : ,\n",
      "'20minit' : ,\n",
      "'20min' : ,\n",
      "'3 hour ' : ,\n",
      "'2 hour ' : ,\n",
      "'1 hour and 30 minutes' : ,\n",
      "'half an hour' : ,\n",
      "'30 minutes' : ,\n",
      "'30 min' : ,\n",
      "'24' : ,\n",
      "'30minutes' : ,\n",
      "'4' : ,\n",
      "'3â€“5 minutes ' : ,\n",
      "'34minutes' : ,\n",
      "'3 to 5 min' : ,\n",
      "'40 minutes ' : ,\n",
      "'2.5 hours' : ,\n",
      "'10 Minutes' : ,\n",
      "'25 minute' : ,\n",
      "'other' : ,\n",
      "'10 minutes' : ,\n",
      "'30min' : ,\n",
      "'15sec' : ,\n",
      "'Half an hour.' : ,\n",
      "'12 minutes ' : ,\n",
      "'30mins water pumps and 15mins in latrine' : ,\n",
      "'10  minutes ' : ,\n",
      "'3min' : ,\n",
      "'50 minutes ' : ,\n",
      "'15' : ,\n",
      "'4 hour' : ,\n",
      "'20 min' : ,\n",
      "'15min' : ,\n",
      "'Need  Other help ' : ,\n",
      "'29 minutes' : ,\n",
      "'Need  Other  help' : ,\n",
      "'2 hours' : ,\n",
      "'4 hour ' : ,\n",
      "'She do not go to water pump because she has a son.' : ,\n",
      "'10 minute' : ,\n",
      "'15 minutes' : ,\n",
      "'Half an hour' : ,\n",
      "'25 minutes' : ,\n",
      "'5 minutes' : ,\n",
      "'30mins in water pumps and 15min in latrine' : ,\n",
      "'35 minute ' : ,\n",
      "'15minutes' : ,\n",
      "'20mins in water pump and 15min in latrine' : ,\n",
      "'5 to 10 min' : ,\n",
      "'20 minutes' : ,\n",
      "'30mins in water pumps and 15mins in latrin' : ,\n",
      "'35minutes' : ,\n",
      "'45minutes' : ,\n",
      "'15mins' : ,\n",
      "'17 minutes' : ,\n",
      "'40 minutes' : ,\n",
      "'12 minutes' : ,\n",
      "'5 to 10' : ,\n",
      "'5 Minutes' : ,\n",
      "'25 minutes ' : ,\n",
      "'1 hour' : ,\n",
      "'15 minute ' : ,\n",
      "'2 to 3 min' : ,\n",
      "'2 minutes' : ,\n",
      "'20minutes' : ,\n",
      "'40min' : ,\n",
      "'0 minutes' : ,\n",
      "'10minutes' : ,\n",
      "'2 to 3 min ' : ,\n",
      "'20' : ,\n",
      "'30 Minutes ' : ,\n",
      "'25mi' : ,\n",
      "'3 hours' : ,\n",
      "'45' : ,\n",
      "'30' : ,\n",
      "'10 to 20 min' : ,\n",
      "'20/30minutes' : ,\n",
      "'15 minute' : ,\n",
      "'20 Minutes ' : ,\n",
      "'20 minute ' : ,\n",
      "'30mins' : ,\n",
      "'40minutes' : ,\n",
      "'3o minutes' : ,\n",
      "'45 min' : ,\n",
      "'40mnt' : ,\n",
      "'10 to 15 minutes ' : ,\n",
      "'20 to 25 minutes ' : ,\n",
      "'7 minutes' : ,\n",
      "'4 hours' : ,\n",
      "'25min' : ,\n",
      "'30 minute ' : ,\n",
      "'10 min' : ,\n",
      "'23' : ,\n",
      "'10 minutes ' : ,\n",
      "'5 minute' : ,\n",
      "'half an hour ' : ,\n",
      "'29minutes' : ,\n",
      "'30 Min' : ,\n",
      "'10' : ,\n",
      "'18 minutes ' : ,\n",
      "'50min' : ,\n",
      "'30 minutes ' : ,\n"
     ]
    }
   ],
   "source": [
    "#Loop over all possible time spent answers to create list.\n",
    "TimeCols = [\"education_time\", \"education_time77\", 'distcenter_time',\n",
    "       'distcenter_time77', 'evoucher_time', 'evoucher_time77','community_time', 'community_time77', 'religious_time', 'religious_time_77','pump_time',\n",
    "       'pump_time77']\n",
    "AllTimeAnswers=[]\n",
    "for whichtime in TimeCols:\n",
    "    Key, _ = np.unique(data[whichtime].dropna(), return_counts=True)\n",
    "    AllTimeAnswers += list(Key)\n",
    "    \n",
    "KeysAll = list(set(AllTimeAnswers))\n",
    "#Print with correct formatting for look-up dictionary\n",
    "for i in KeysAll:\n",
    "    print(\"'%s' : ,\" % i) "
   ]
  },
  {
   "cell_type": "code",
   "execution_count": 6,
   "metadata": {},
   "outputs": [],
   "source": [
    "#Manually add keys for these!\n",
    "TimeDict = {  \n",
    "    np.nan : np.nan,\n",
    "    '15 minutes' : 15,\n",
    "    '12 minutes ' : 12,\n",
    "    '3min' : 3,\n",
    "    '30mins' : 30,\n",
    "    '25mi' : 25,\n",
    "    '5 to 10' : 7.5,\n",
    "    'other' : np.nan,\n",
    "    '40 minutes' : 40,\n",
    "    'Half an hour' : 30,\n",
    "    '5 to 10 min' : 7.5,\n",
    "    '3o minutes' : 30,\n",
    "    '25min' : 25,\n",
    "    '30 Min' : 30,\n",
    "    '15 minute' : 15,\n",
    "    '5 minutes' : 5,\n",
    "    '30 minute ' : 30,\n",
    "    'Need  Other help ' : np.nan,\n",
    "    '10 to 15 minutes ' : 12.5,\n",
    "    '30 to 45 min' : 37.5,\n",
    "    '24' : 24,\n",
    "    '12minutes' : 12,\n",
    "    '2.5 hours' : 2.5*60,\n",
    "    '40mnt' : 40,\n",
    "    '10 minutes' : 10,\n",
    "    '0 minutes' : np.nan,\n",
    "    'Need  Other  help' : np.nan,\n",
    "    '10 minutes ' : 10,\n",
    "    '35 minutes ' : 35,\n",
    "    '40min' : 40,\n",
    "    '5 Minutes' : 5,\n",
    "    '30 Minutes ' : 30,\n",
    "    '20 minute ' : 20,\n",
    "    '30 mnt' : 30,\n",
    "    '4 hour ' : 4*60,\n",
    "    '20min' : 20,\n",
    "    '2 to 3 min' : 2.5,\n",
    "    '50min' : 50,\n",
    "    '15sec' : np.nan,\n",
    "    '29minutes' : 29,\n",
    "    '30' : 30,\n",
    "    '15 minutes ' : 15,\n",
    "    '3 hrs' : 3*60,\n",
    "    '17 minutes' : 17,\n",
    "    '30 minutes ' : 30,\n",
    "    '10  minutes ' : 10,\n",
    "    '29 minutes' : 29,\n",
    "    '20minit' : 20,\n",
    "    '3 to 5 min' : 4,\n",
    "    '7 minutes' : 7,\n",
    "    '4 hour' : 4*60,\n",
    "    '30mins in water pumps and 15min in latrine' : 45,\n",
    "    '35minutes' : 35,\n",
    "    '30minutes' : 30,\n",
    "    '20 Minutes ' : 20,\n",
    "    '10 Minutes' : 10,\n",
    "    '50 minutes ' : 50,\n",
    "    '25 minute' : 25,\n",
    "    '40 minutes ' : 40,\n",
    "    '15mins' : 15,\n",
    "    '18 minutes ' : 18,\n",
    "    '15 minute ' : 15,\n",
    "    'She do not go to water pump because she has a son.' : np.nan,\n",
    "    '20' : 20,\n",
    "    '35 minute ' : 35,\n",
    "    '45minutes' : 45,\n",
    "    '1 hour and 30 minutes' : 1.5*60,\n",
    "    '12 minutes' : 12,\n",
    "    '15minutes' : 15,\n",
    "    '5 minute' : 5,\n",
    "    '3 hour ' : 3*60,\n",
    "    '25 minutes' : 25,\n",
    "    '30mins in water pumps and 15mins in latrin' : 45,\n",
    "    '3 hours' : 3*60,\n",
    "    '20/30minutes' : 25,\n",
    "    '30 min' : 30,\n",
    "    '1 hour' : 1*60,\n",
    "    '10 min' : 10,\n",
    "    '30min' : 30,\n",
    "    '23' : 23,\n",
    "    '2 to 3 min ' : 2.5,\n",
    "    '2 minutes' : 2,\n",
    "    '10 to 20 min' : 15,\n",
    "    '20 minutes ' : 20,\n",
    "    '34minutes' : 34,\n",
    "    '45' : 45,\n",
    "    '30 minutes' : 30,\n",
    "    '3â€“5 minutes ' : 5,\n",
    "    'half an hour ' : 30,\n",
    "    '30mins water pumps and 15mins in latrine' : 45,\n",
    "    '2 hours' : 2*60,\n",
    "    '15min' : 15,\n",
    "    'half an hour' : 30,\n",
    "    '20mins in water pump and 15min in latrine' : 35,\n",
    "    '20minutes' : 20,\n",
    "    '4' : np.nan, #Minutes/hours?\n",
    "    '4 hours' : 4*60,\n",
    "    '10minutes' : 10,\n",
    "    '20 min' : 20,\n",
    "    '40minutes' : 40,\n",
    "    '25 minutes ' : 25,\n",
    "    '45 min' : 45,\n",
    "    '15' : 15,\n",
    "    '20 to 25 minutes ' : 22.5,\n",
    "    'Half an hour.' : 30,\n",
    "    '10 minute' : 10,\n",
    "    '10' : 10,\n",
    "    '2 hour ' : 2*60,\n",
    "    '20 minutes' : 20\n",
    "}"
   ]
  },
  {
   "cell_type": "code",
   "execution_count": 7,
   "metadata": {},
   "outputs": [],
   "source": [
    "def child_child(data, x):\n",
    "    Indexes = data[\"age\"] == \"Under 18\"\n",
    "    return (data[Indexes][x]).values, Indexes.values\n",
    "    \n",
    "def adult_adult(data, x):\n",
    "    Indexes = data[\"age\"].isin([\"Over 18 but under 60\", \"Over 60\"])\n",
    "    return (data[Indexes][x]).values, Indexes\n",
    "    \n",
    "def child_adult(data, x):\n",
    "    Indexes = data[\"age\"] == \"Under 18\"\n",
    "    return (data[Indexes][x]).values, Indexes\n",
    "    \n",
    "def adult_child(data, x):\n",
    "    Indexes = data[\"age\"].isin([\"Over 18 but under 60\", \"Over 60\"])\n",
    "    return (data[Indexes][x]).values, Indexes"
   ]
  },
  {
   "cell_type": "code",
   "execution_count": 8,
   "metadata": {},
   "outputs": [],
   "source": [
    "def contact_matrix_error(matrix, metric=np.median, confidence_level=0.682689492137086):\n",
    "    Error = np.zeros_like(matrix)\n",
    "    \n",
    "    for i in range(Error.shape[0]):\n",
    "        for j in range(Error.shape[0]):\n",
    "        \n",
    "            res = bootstrap(\n",
    "                (matrix[i,j],), \n",
    "                metric,  \n",
    "                vectorized=False, \n",
    "                confidence_level=confidence_level,\n",
    "                random_state=None, \n",
    "                method=\"percentile\"\n",
    "            )\n",
    "            #print(res.confidence_interval)\n",
    "            Error[i,j] = res.standard_error\n",
    "    return Error\n",
    "    "
   ]
  },
  {
   "cell_type": "code",
   "execution_count": 9,
   "metadata": {},
   "outputs": [],
   "source": [
    "\n",
    "def contact_matrix(data, x, y, times, norm=False, characteristic_time=1):\n",
    "    c_c, T_cc = child_child(data, x)\n",
    "    timesgiven_cc = times[T_cc]\n",
    "    naninf = (np.isnan(c_c) | np.isinf(c_c) | np.isnan(timesgiven_cc) | np.isinf(timesgiven_cc))\n",
    "    c_c = c_c[~naninf]\n",
    "    timesgiven_cc = timesgiven_cc[~naninf]\n",
    "    \n",
    "    c_a, T_ca = child_adult(data, y)\n",
    "    timesgiven_ca = times[T_ca]\n",
    "    naninf = (np.isnan(c_a) | np.isinf(c_a) | np.isnan(timesgiven_ca) | np.isinf(timesgiven_ca))\n",
    "    c_a = c_a[~naninf]\n",
    "    timesgiven_ca = timesgiven_ca[~naninf]\n",
    "    \n",
    "    a_a, T_aa = adult_adult(data, y)\n",
    "    timesgiven_aa = times[T_aa]\n",
    "    naninf = (np.isnan(a_a) | np.isinf(a_a) | np.isnan(timesgiven_aa) | np.isinf(timesgiven_aa))\n",
    "    a_a = a_a[~naninf]\n",
    "    timesgiven_aa = timesgiven_aa[~naninf]\n",
    "    \n",
    "    a_c, T_ac = adult_child(data, x)\n",
    "    timesgiven_ac = times[T_ac]\n",
    "    naninf = (np.isnan(a_c) | np.isinf(a_c) | np.isnan(timesgiven_ac) | np.isinf(timesgiven_ac))\n",
    "    a_c = a_c[~naninf]\n",
    "    timesgiven_ac = timesgiven_ac[~naninf]\n",
    "    \n",
    "\n",
    "    if norm == True:\n",
    "        fig, axes = plt.subplots(2,2)\n",
    "        corr, _ = pearsonr(c_c, timesgiven_cc)\n",
    "        at = AnchoredText('Pearsons corr: %.2f' % corr, frameon=True, loc='upper left')\n",
    "        at.patch.set_boxstyle(\"round,pad=0.,rounding_size=0.2\")\n",
    "        axes[0,0].add_artist(at)\n",
    "        axes[0,0].scatter(c_c, timesgiven_cc)\n",
    "        axes[0,0].set_title(\"c_c\")\n",
    "        \n",
    "        corr, _ = pearsonr(c_a, timesgiven_ca)\n",
    "        at = AnchoredText('Pearsons corr: %.2f' % corr, frameon=True, loc='upper left')\n",
    "        at.patch.set_boxstyle(\"round,pad=0.,rounding_size=0.2\")\n",
    "        axes[0,1].add_artist(at)\n",
    "        axes[0,1].scatter(c_a, timesgiven_ca)\n",
    "        axes[0,1].set_title(\"c_a\")\n",
    "        \n",
    "        corr, _ = pearsonr(a_c, timesgiven_ac)\n",
    "        at = AnchoredText('Pearsons corr: %.2f' % corr, frameon=True, loc='upper left')\n",
    "        at.patch.set_boxstyle(\"round,pad=0.,rounding_size=0.2\")\n",
    "        axes[1,0].add_artist(at)\n",
    "        axes[1,0].scatter(a_c, timesgiven_ac)\n",
    "        axes[1,0].set_title(\"a_c\")\n",
    "        \n",
    "        corr, _ = pearsonr(a_a, timesgiven_aa)\n",
    "        at = AnchoredText('Pearsons corr: %.2f' % corr, frameon=True, loc='upper left')\n",
    "        at.patch.set_boxstyle(\"round,pad=0.,rounding_size=0.2\")\n",
    "        axes[1,1].add_artist(at)\n",
    "        axes[1,1].scatter(a_a, timesgiven_aa)\n",
    "        axes[1,1].set_title(\"a_a\")\n",
    "\n",
    "        axes[0,0].set_xlabel(\"N contacts\")\n",
    "        axes[0,1].set_xlabel(\"N contacts\")\n",
    "        axes[1,0].set_xlabel(\"N contacts\")\n",
    "        axes[1,1].set_xlabel(\"N contacts\")\n",
    "        axes[0,0].set_ylabel(\"time (mins)\")\n",
    "        axes[0,1].set_ylabel(\"time (mins)\")\n",
    "        axes[1,0].set_ylabel(\"time (mins)\")\n",
    "        axes[1,1].set_ylabel(\"time (mins)\")\n",
    "        \n",
    "        plt.tight_layout()\n",
    "        plt.show()\n",
    "    \n",
    "        #Normalize over contacts for the median time spend there.\n",
    "        c_c /= (timesgiven_cc/characteristic_time) \n",
    "        c_a /= (timesgiven_ca/characteristic_time)\n",
    "        a_a /= (timesgiven_aa/characteristic_time)\n",
    "        a_c /= (timesgiven_ac/characteristic_time)\n",
    "        \n",
    "    maxcontacts = max(max(c_c),max(c_a),max(a_c),max(a_a))\n",
    "    maxcontacts = (maxcontacts - (maxcontacts%10))+10\n",
    "    if maxcontacts > 40:\n",
    "        maxcontacts = 40\n",
    "        \n",
    "    bins = np.arange(0,maxcontacts+1,1)-0.5\n",
    "    fig, axes = plt.subplots(2,2)\n",
    "    axes[0,0].hist(c_c, bins)\n",
    "    axes[0,0].set_title(\"c_c\")\n",
    "    axes[0,1].hist(c_a, bins)\n",
    "    axes[0,1].set_title(\"c_a\")\n",
    "    axes[1,0].hist(a_c, bins)\n",
    "    axes[1,0].set_title(\"a_c\")\n",
    "    axes[1,1].hist(a_a, bins)\n",
    "    axes[1,1].set_title(\"a_a\")\n",
    "    \n",
    "    axes[0,0].set_xlabel(\"N contacts\")\n",
    "    axes[0,1].set_xlabel(\"N contacts\")\n",
    "    axes[1,0].set_xlabel(\"N contacts\")\n",
    "    axes[1,1].set_xlabel(\"N contacts\")\n",
    "    \n",
    "    axes[0,0].set_ylabel(\"counts\")\n",
    "    axes[0,1].set_ylabel(\"counts\")\n",
    "    axes[1,0].set_ylabel(\"counts\")\n",
    "    axes[1,1].set_ylabel(\"counts\")\n",
    "    \n",
    "    plt.tight_layout()\n",
    "    plt.show()\n",
    "\n",
    "    Array = np.array([[np.nanmedian(c_c),np.nanmedian(c_a)],[np.nanmedian(a_c),np.nanmedian(a_a)]])\n",
    "    Error = contact_matrix_error(np.array([[c_c, c_a],[a_c ,a_a]],dtype=object))\n",
    "    return Array, Error"
   ]
  },
  {
   "cell_type": "code",
   "execution_count": 10,
   "metadata": {},
   "outputs": [],
   "source": [
    "def ModifyCM(input_cm, input_err, NSurvey):\n",
    "    Gij = np.zeros_like(input_cm)\n",
    "    Gij_err = np.zeros_like(input_err)\n",
    "    \n",
    "    for i in range(Gij.shape[0]):\n",
    "        for j in range(Gij.shape[1]):\n",
    "            Gij[i,j] = input_cm[i,j]*(sum(NPop)/sum(NSurvey))*(NSurvey[j]/NPop[j])\n",
    "            Gij_err[i,j] = input_err[i,j]*(sum(NPop)/sum(NSurvey))*(NSurvey[j]/NPop[j])\n",
    "    return Gij,Gij_err"
   ]
  },
  {
   "cell_type": "code",
   "execution_count": 11,
   "metadata": {},
   "outputs": [],
   "source": [
    "def GetBetterTimes(data, Cols):\n",
    "    Times = []\n",
    "    for row_i in range(data.shape[0]):\n",
    "        T1 = data[Cols].iloc[row_i].values[0]\n",
    "        T2 = data[Cols].iloc[row_i].values[1]\n",
    "        \n",
    "        T1_Trans = TimeDict[T1]\n",
    "        T2_Trans = TimeDict[T2]\n",
    "                \n",
    "        if np.isnan(T1_Trans) == False:\n",
    "            Times.append(T1_Trans)\n",
    "        elif np.isnan(T2_Trans) == False:\n",
    "            Times.append(T2_Trans)\n",
    "        else:\n",
    "            Times.append(np.nan)  \n",
    "    return Times\n",
    "\n",
    "def attendance(times):\n",
    "    main_times, main_counts = np.unique(times, return_counts=True)\n",
    "\n",
    "    df = pd.DataFrame({'times': list(main_times), 'counts': list(main_counts)}).groupby('times').sum()\n",
    "    times = list(df.index)\n",
    "    counts = list(df.counts)\n",
    "    \n",
    "    plt.hist(times, bins=np.arange(0,4*60,10))\n",
    "    plt.xlabel(\"time (mins)\")\n",
    "    plt.ylabel(\"counts\")\n",
    "    plt.show()\n",
    "    \n",
    "    assert len(times) == len(counts)\n",
    "    counts = np.array(counts)\n",
    "    times = np.array(times)\n",
    "    total = []\n",
    "    for idx, i in enumerate(counts):\n",
    "        for j in range(i):\n",
    "            total.append(float(times[idx]))\n",
    "    return np.mean(total), np.median(total)"
   ]
  },
  {
   "cell_type": "markdown",
   "metadata": {},
   "source": [
    "## Overview"
   ]
  },
  {
   "cell_type": "code",
   "execution_count": 12,
   "metadata": {},
   "outputs": [
    {
     "name": "stdout",
     "output_type": "stream",
     "text": [
      "There are 309 participants\n"
     ]
    }
   ],
   "source": [
    "print (\"There are {} participants\".format(len(data)))\n",
    "#print(data.columns)"
   ]
  },
  {
   "cell_type": "code",
   "execution_count": 13,
   "metadata": {},
   "outputs": [
    {
     "data": {
      "text/plain": [
       "(array(['Female', 'Male'], dtype=object), array([152, 155]))"
      ]
     },
     "execution_count": 13,
     "metadata": {},
     "output_type": "execute_result"
    }
   ],
   "source": [
    "np.unique(data[\"sex\"].dropna(), return_counts=True)"
   ]
  },
  {
   "cell_type": "code",
   "execution_count": 14,
   "metadata": {},
   "outputs": [
    {
     "name": "stdout",
     "output_type": "stream",
     "text": [
      "(array(['Over 18 but under 60', 'Over 60', 'Under 18'], dtype=object), array([115, 102,  92]))\n",
      "[ 92 217]\n"
     ]
    }
   ],
   "source": [
    "Nij = np.unique(data[\"age\"], return_counts=True)\n",
    "print(Nij)\n",
    "Nij = np.array([Nij[1][2], Nij[1][0]+Nij[1][1]])\n",
    "print(Nij)"
   ]
  },
  {
   "cell_type": "code",
   "execution_count": 15,
   "metadata": {},
   "outputs": [
    {
     "data": {
      "text/plain": [
       "(array(['No', 'Yes'], dtype=object), array([261,  48]))"
      ]
     },
     "execution_count": 15,
     "metadata": {},
     "output_type": "execute_result"
    }
   ],
   "source": [
    "np.unique(data[\"disability\"], return_counts=True)"
   ]
  },
  {
   "cell_type": "markdown",
   "metadata": {},
   "source": [
    "## Face mask"
   ]
  },
  {
   "cell_type": "code",
   "execution_count": 16,
   "metadata": {},
   "outputs": [],
   "source": [
    "#\"Do you have access to a face mask?\""
   ]
  },
  {
   "cell_type": "code",
   "execution_count": 17,
   "metadata": {},
   "outputs": [
    {
     "data": {
      "text/plain": [
       "(array(['No', 'Yes'], dtype=object), array([ 58, 251]))"
      ]
     },
     "execution_count": 17,
     "metadata": {},
     "output_type": "execute_result"
    }
   ],
   "source": [
    "np.unique(data[\"face_mask\"], return_counts=True)"
   ]
  },
  {
   "cell_type": "code",
   "execution_count": 18,
   "metadata": {},
   "outputs": [
    {
     "data": {
      "text/plain": [
       "(array(['Female', 'Male'], dtype=object), array([31, 27]))"
      ]
     },
     "execution_count": 18,
     "metadata": {},
     "output_type": "execute_result"
    }
   ],
   "source": [
    "np.unique(data[data[\"face_mask\"] == \"No\"][\"sex\"], return_counts=True)"
   ]
  },
  {
   "cell_type": "code",
   "execution_count": 19,
   "metadata": {},
   "outputs": [
    {
     "name": "stdout",
     "output_type": "stream",
     "text": [
      "(array(['Over 18 but under 60', 'Over 60', 'Under 18'], dtype=object), array([15, 26, 17]))\n",
      "[17 41]\n"
     ]
    }
   ],
   "source": [
    "Nij = np.unique(data[data[\"face_mask\"] == \"No\"][\"age\"], return_counts=True)\n",
    "print(Nij)\n",
    "Nij = np.array([Nij[1][2], Nij[1][0]+Nij[1][1]])\n",
    "print(Nij)"
   ]
  },
  {
   "cell_type": "code",
   "execution_count": 20,
   "metadata": {},
   "outputs": [
    {
     "data": {
      "text/plain": [
       "(array(['No', 'Yes'], dtype=object), array([45, 13]))"
      ]
     },
     "execution_count": 20,
     "metadata": {},
     "output_type": "execute_result"
    }
   ],
   "source": [
    "np.unique(data[data[\"face_mask\"] == \"No\"][\"disability\"], return_counts=True)\n",
    "## Note: need to scale"
   ]
  },
  {
   "cell_type": "markdown",
   "metadata": {},
   "source": [
    "## Learning centers"
   ]
  },
  {
   "cell_type": "code",
   "execution_count": 21,
   "metadata": {},
   "outputs": [],
   "source": [
    "#\"When the learning centers were open, did you attend any formal education?\""
   ]
  },
  {
   "cell_type": "code",
   "execution_count": 22,
   "metadata": {},
   "outputs": [
    {
     "data": {
      "text/plain": [
       "(array(['No', 'Yes'], dtype=object), array([193, 116]))"
      ]
     },
     "execution_count": 22,
     "metadata": {},
     "output_type": "execute_result"
    }
   ],
   "source": [
    "np.unique(data[\"education\"], return_counts=True)"
   ]
  },
  {
   "cell_type": "code",
   "execution_count": 23,
   "metadata": {},
   "outputs": [
    {
     "name": "stdout",
     "output_type": "stream",
     "text": [
      "(array(['Over 18 but under 60', 'Over 60', 'Under 18'], dtype=object), array([22,  3, 37]))\n",
      "[37 25]\n"
     ]
    }
   ],
   "source": [
    "Nij = np.unique(data[(data[\"education\"] == \"Yes\") & (data[\"sex\"] == \"Male\")][\"age\"], return_counts=True)\n",
    "print(Nij)\n",
    "Nij = np.array([Nij[1][2], Nij[1][0]+Nij[1][1]])\n",
    "print(Nij)"
   ]
  },
  {
   "cell_type": "code",
   "execution_count": 24,
   "metadata": {},
   "outputs": [
    {
     "name": "stdout",
     "output_type": "stream",
     "text": [
      "(array(['Over 18 but under 60', 'Over 60', 'Under 18'], dtype=object), array([13,  4, 35]))\n",
      "[35 17]\n"
     ]
    }
   ],
   "source": [
    "Nij=np.unique(data[(data[\"education\"] == \"Yes\") & (data[\"sex\"] == \"Female\")][\"age\"], return_counts=True)\n",
    "print(Nij)\n",
    "Nij = np.array([Nij[1][2], Nij[1][0]+Nij[1][1]])\n",
    "print(Nij)"
   ]
  },
  {
   "cell_type": "code",
   "execution_count": 25,
   "metadata": {},
   "outputs": [
    {
     "name": "stdout",
     "output_type": "stream",
     "text": [
      "(array(['Over 18 but under 60', 'Over 60', 'Under 18'], dtype=object), array([35,  7, 74]))\n",
      "[74 42]\n"
     ]
    }
   ],
   "source": [
    "Nij=np.unique(data[(data[\"education\"] == \"Yes\")][\"age\"], return_counts=True)\n",
    "print(Nij)\n",
    "Nij = np.array([Nij[1][2], Nij[1][0]+Nij[1][1]])\n",
    "print(Nij)"
   ]
  },
  {
   "cell_type": "code",
   "execution_count": 26,
   "metadata": {},
   "outputs": [
    {
     "data": {
      "text/plain": [
       "(array(['No', 'Yes'], dtype=object), array([108,   8]))"
      ]
     },
     "execution_count": 26,
     "metadata": {},
     "output_type": "execute_result"
    }
   ],
   "source": [
    "np.unique(data[data[\"education\"] == \"Yes\"][\"disability\"], return_counts=True)\n",
    "## Note: need to scale"
   ]
  },
  {
   "cell_type": "code",
   "execution_count": 27,
   "metadata": {},
   "outputs": [
    {
     "data": {
      "image/png": "[encoded data removed]",
      "text/plain": [
       "<Figure size 432x288 with 1 Axes>"
      ]
     },
     "metadata": {
      "needs_background": "light"
     },
     "output_type": "display_data"
    }
   ],
   "source": [
    "#When you go to an learning center, how much time do you spend there?\n",
    "times = GetBetterTimes(data,[\"education_time\",\"education_time77\" ])\n",
    "lc_attendance_mean, lc_attendance_median = attendance(times)"
   ]
  },
  {
   "cell_type": "code",
   "execution_count": 28,
   "metadata": {},
   "outputs": [
    {
     "data": {
      "text/plain": [
       "(1.496312684365782, 1.5)"
      ]
     },
     "execution_count": 28,
     "metadata": {},
     "output_type": "execute_result"
    }
   ],
   "source": [
    "lc_attendance_mean/60., lc_attendance_median/60."
   ]
  },
  {
   "cell_type": "code",
   "execution_count": 29,
   "metadata": {},
   "outputs": [
    {
     "name": "stdout",
     "output_type": "stream",
     "text": [
      "Average over answers\n"
     ]
    },
    {
     "data": {
      "image/png": "[encoded data removed]",
      "text/plain": [
       "<Figure size 432x288 with 4 Axes>"
      ]
     },
     "metadata": {
      "needs_background": "light"
     },
     "output_type": "display_data"
    },
    {
     "name": "stdout",
     "output_type": "stream",
     "text": [
      "  learning_center:\n",
      "    contacts: [[12.31,1.50],[6.15,3.01]]\n",
      "    contacts_err: [[0.86,0.18],[2.10,0.65]]\n",
      "    proportion_physical: [[0.12,0.12],[0.12,0.12]]\n",
      "    characteristic_time: 1.50\n",
      "\n",
      "Average over answers per unit time\n"
     ]
    },
    {
     "data": {
      "image/png": "[encoded data removed]",
      "text/plain": [
       "<Figure size 432x288 with 4 Axes>"
      ]
     },
     "metadata": {
      "needs_background": "light"
     },
     "output_type": "display_data"
    },
    {
     "data": {
      "image/png": "[encoded data removed]",
      "text/plain": [
       "<Figure size 432x288 with 4 Axes>"
      ]
     },
     "metadata": {
      "needs_background": "light"
     },
     "output_type": "display_data"
    },
    {
     "name": "stdout",
     "output_type": "stream",
     "text": [
      "  learning_center:\n",
      "    contacts: [[13.38,1.50],[11.08,4.51]]\n",
      "    contacts_err: [[1.53,0.39],[2.68,1.11]]\n",
      "    proportion_physical: [[0.12,0.12],[0.12,0.12]]\n",
      "    characteristic_time: 1.50\n"
     ]
    }
   ],
   "source": [
    "#\"When you attended formal education, approximately how many children do you come into contact with (for example, talk to)?\"\n",
    "#\"When you attended formal education, approximately how many adults do you come into contact with (for example, talk to)?\"\n",
    "print(\"Average over answers\")\n",
    "lc_contact, lc_error = contact_matrix(\n",
    "    data = data,\n",
    "    x = \"education_contact_children\",\n",
    "    y = \"education_contact_adults\",\n",
    "    times = np.array(times)\n",
    ")\n",
    "lc_contact, lc_error = ModifyCM(lc_contact, lc_error, Nij)\n",
    "PolicyText(\"learning_center\", lc_contact, lc_error, np.array([[0.12,0.12],[0.12,0.12]]), lc_attendance_median/60.)\n",
    "\n",
    "print(\"\")\n",
    "print(\"Average over answers per unit time\")\n",
    "lc_contact, lc_error = contact_matrix(\n",
    "    data = data,\n",
    "    x = \"education_contact_children\",\n",
    "    y = \"education_contact_adults\",\n",
    "    times = np.array(times),\n",
    "    norm = True, characteristic_time=lc_attendance_median\n",
    ")\n",
    "lc_contact, lc_error = ModifyCM(lc_contact, lc_error, Nij)\n",
    "PolicyText(\"learning_center\", lc_contact, lc_error, np.array([[0.12,0.12],[0.12,0.12]]), lc_attendance_median/60.)\n"
   ]
  },
  {
   "cell_type": "markdown",
   "metadata": {},
   "source": [
    "## Food distribution center"
   ]
  },
  {
   "cell_type": "code",
   "execution_count": 30,
   "metadata": {},
   "outputs": [
    {
     "name": "stdout",
     "output_type": "stream",
     "text": [
      "(array(['Over 18 but under 60', 'Over 60', 'Under 18'], dtype=object), array([54, 29, 14]))\n",
      "[14 83]\n"
     ]
    }
   ],
   "source": [
    "#\"Do you ever go to a food distribution center?\"\n",
    "Nij=np.unique(data[(data[\"distcenter\"] == \"Yes\") & (data[\"sex\"] == \"Male\")][\"age\"], return_counts=True)\n",
    "print(Nij)\n",
    "Nij = np.array([Nij[1][2], Nij[1][0]+Nij[1][1]])\n",
    "print(Nij)"
   ]
  },
  {
   "cell_type": "code",
   "execution_count": 31,
   "metadata": {},
   "outputs": [
    {
     "name": "stdout",
     "output_type": "stream",
     "text": [
      "(array(['Over 18 but under 60', 'Over 60', 'Under 18'], dtype=object), array([33, 20,  5]))\n",
      "[ 5 53]\n"
     ]
    }
   ],
   "source": [
    "Nij=np.unique(data[(data[\"distcenter\"] == \"Yes\") & (data[\"sex\"] == \"Female\")][\"age\"], return_counts=True)\n",
    "print(Nij)\n",
    "Nij = np.array([Nij[1][2], Nij[1][0]+Nij[1][1]])\n",
    "print(Nij)"
   ]
  },
  {
   "cell_type": "code",
   "execution_count": 32,
   "metadata": {},
   "outputs": [
    {
     "name": "stdout",
     "output_type": "stream",
     "text": [
      "(array(['Over 18 but under 60', 'Over 60', 'Under 18'], dtype=object), array([87, 49, 20]))\n",
      "[ 20 136]\n"
     ]
    }
   ],
   "source": [
    "Nij=np.unique(data[(data[\"distcenter\"] == \"Yes\") ][\"age\"], return_counts=True)\n",
    "print(Nij)\n",
    "Nij = np.array([Nij[1][2], Nij[1][0]+Nij[1][1]])\n",
    "print(Nij)"
   ]
  },
  {
   "cell_type": "code",
   "execution_count": 33,
   "metadata": {},
   "outputs": [
    {
     "data": {
      "image/png": "[encoded data removed]",
      "text/plain": [
       "<Figure size 432x288 with 1 Axes>"
      ]
     },
     "metadata": {
      "needs_background": "light"
     },
     "output_type": "display_data"
    }
   ],
   "source": [
    "#When you go to a food distribution center, how much time do you spend there?\n",
    "times = GetBetterTimes(data,[\"distcenter_time\",\"distcenter_time77\" ])\n",
    "dc_attendance_mean, dc_attendance_median = attendance(times)"
   ]
  },
  {
   "cell_type": "code",
   "execution_count": 34,
   "metadata": {},
   "outputs": [
    {
     "data": {
      "text/plain": [
       "(1.1765350877192982, 1.0)"
      ]
     },
     "execution_count": 34,
     "metadata": {},
     "output_type": "execute_result"
    }
   ],
   "source": [
    "dc_attendance_mean/60., dc_attendance_median/60."
   ]
  },
  {
   "cell_type": "code",
   "execution_count": 35,
   "metadata": {},
   "outputs": [
    {
     "name": "stdout",
     "output_type": "stream",
     "text": [
      "Average over answers\n"
     ]
    },
    {
     "data": {
      "image/png": "[encoded data removed]",
      "text/plain": [
       "<Figure size 432x288 with 4 Axes>"
      ]
     },
     "metadata": {
      "needs_background": "light"
     },
     "output_type": "display_data"
    },
    {
     "name": "stdout",
     "output_type": "stream",
     "text": [
      "  distribution_center:\n",
      "    contacts: [[1.24,18.10],[0.49,21.72]]\n",
      "    contacts_err: [[0.20,6.89],[0.12,3.16]]\n",
      "    proportion_physical: [[0.12]]\n",
      "    characteristic_time: 1.00\n",
      "\n",
      "Average over answers per unit time\n"
     ]
    },
    {
     "data": {
      "image/png": "[encoded data removed]",
      "text/plain": [
       "<Figure size 432x288 with 4 Axes>"
      ]
     },
     "metadata": {
      "needs_background": "light"
     },
     "output_type": "display_data"
    },
    {
     "data": {
      "image/png": "[encoded data removed]",
      "text/plain": [
       "<Figure size 432x288 with 4 Axes>"
      ]
     },
     "metadata": {
      "needs_background": "light"
     },
     "output_type": "display_data"
    },
    {
     "name": "stdout",
     "output_type": "stream",
     "text": [
      "  distribution_center:\n",
      "    contacts: [[1.24,18.10],[0.49,18.10]]\n",
      "    contacts_err: [[0.24,3.04],[0.12,2.93]]\n",
      "    proportion_physical: [[0.12]]\n",
      "    characteristic_time: 1.00\n"
     ]
    }
   ],
   "source": [
    "#\"When you go to a food distribution center, approximately how many children do you come into contact with at the center (for example, talk to)?\",\n",
    "#\"When you go to a food distribution center, approximately how many adults do you come into contact with at the center (for example, talk to)?\"\n",
    "print(\"Average over answers\")\n",
    "dc_contact, dc_error = contact_matrix(\n",
    "    data = data,\n",
    "    x = \"distcenter_contact_children\",\n",
    "    y = \"distcenter_contact_adults\",\n",
    "    times = np.array(times)\n",
    ")\n",
    "dc_contact, dc_error = ModifyCM(dc_contact, dc_error, Nij)\n",
    "PolicyText(\"distribution_center\", dc_contact, dc_error, np.array([[0.12]]), dc_attendance_median/60.)\n",
    "\n",
    "print(\"\")\n",
    "print(\"Average over answers per unit time\")\n",
    "\n",
    "dc_contact, dc_error = contact_matrix(\n",
    "    data = data,\n",
    "    x = \"distcenter_contact_children\",\n",
    "    y = \"distcenter_contact_adults\",\n",
    "    times = np.array(times),\n",
    "    norm = True, characteristic_time=dc_attendance_median\n",
    ")\n",
    "\n",
    "dc_contact, dc_error = ModifyCM(dc_contact, dc_error, Nij)\n",
    "PolicyText(\"distribution_center\", dc_contact, dc_error, np.array([[0.12]]), dc_attendance_median/60.)"
   ]
  },
  {
   "cell_type": "markdown",
   "metadata": {},
   "source": [
    "## E-voucher outlet"
   ]
  },
  {
   "cell_type": "code",
   "execution_count": 36,
   "metadata": {},
   "outputs": [
    {
     "name": "stdout",
     "output_type": "stream",
     "text": [
      "(array(['Over 18 but under 60', 'Over 60', 'Under 18'], dtype=object), array([41, 22,  8]))\n",
      "[ 8 63]\n"
     ]
    }
   ],
   "source": [
    "#Do you ever go to an e-voucher outlet?\n",
    "Nij=np.unique(data[(data[\"evoucher\"] == \"Yes\") & (data[\"sex\"] == \"Male\")][\"age\"], return_counts=True)\n",
    "print(Nij)\n",
    "Nij = np.array([Nij[1][2], Nij[1][0]+Nij[1][1]])\n",
    "print(Nij)"
   ]
  },
  {
   "cell_type": "code",
   "execution_count": 37,
   "metadata": {},
   "outputs": [
    {
     "name": "stdout",
     "output_type": "stream",
     "text": [
      "(array(['Over 18 but under 60', 'Over 60', 'Under 18'], dtype=object), array([24, 16,  5]))\n",
      "[ 5 40]\n"
     ]
    }
   ],
   "source": [
    "Nij=np.unique(data[(data[\"evoucher\"] == \"Yes\") & (data[\"sex\"] == \"Female\")][\"age\"], return_counts=True)\n",
    "print(Nij)\n",
    "Nij = np.array([Nij[1][2], Nij[1][0]+Nij[1][1]])\n",
    "print(Nij)"
   ]
  },
  {
   "cell_type": "code",
   "execution_count": 38,
   "metadata": {},
   "outputs": [
    {
     "name": "stdout",
     "output_type": "stream",
     "text": [
      "(array(['Over 18 but under 60', 'Over 60', 'Under 18'], dtype=object), array([65, 38, 13]))\n",
      "[ 13 103]\n"
     ]
    }
   ],
   "source": [
    "Nij=np.unique(data[(data[\"evoucher\"] == \"Yes\")][\"age\"], return_counts=True)\n",
    "print(Nij)\n",
    "Nij = np.array([Nij[1][2], Nij[1][0]+Nij[1][1]])\n",
    "print(Nij)"
   ]
  },
  {
   "cell_type": "code",
   "execution_count": 39,
   "metadata": {},
   "outputs": [
    {
     "data": {
      "image/png": "[encoded data removed]",
      "text/plain": [
       "<Figure size 432x288 with 1 Axes>"
      ]
     },
     "metadata": {
      "needs_background": "light"
     },
     "output_type": "display_data"
    }
   ],
   "source": [
    "#When you go to a e-voucher outlet, how much time do you spend there?\n",
    "times = GetBetterTimes(data,[\"evoucher_time\",\"evoucher_time77\" ])\n",
    "voucher_attendance_mean, voucher_attendance_median = attendance(times)"
   ]
  },
  {
   "cell_type": "code",
   "execution_count": 40,
   "metadata": {},
   "outputs": [
    {
     "data": {
      "text/plain": [
       "(0.7507788161993769, 1.0)"
      ]
     },
     "execution_count": 40,
     "metadata": {},
     "output_type": "execute_result"
    }
   ],
   "source": [
    "voucher_attendance_mean/60., voucher_attendance_median/60."
   ]
  },
  {
   "cell_type": "code",
   "execution_count": 41,
   "metadata": {},
   "outputs": [
    {
     "name": "stdout",
     "output_type": "stream",
     "text": [
      "Average over answers\n"
     ]
    },
    {
     "data": {
      "image/png": "[encoded data removed]",
      "text/plain": [
       "<Figure size 432x288 with 4 Axes>"
      ]
     },
     "metadata": {
      "needs_background": "light"
     },
     "output_type": "display_data"
    },
    {
     "name": "stdout",
     "output_type": "stream",
     "text": [
      "  e_voucher:\n",
      "    contacts: [[0.43,11.06],[0.00,18.44]]\n",
      "    contacts_err: [[0.38,6.71],[0.03,2.28]]\n",
      "    proportion_physical: [[0.12]]\n",
      "    characteristic_time: 1.00\n",
      "\n",
      "Average over answers per unit time\n"
     ]
    },
    {
     "data": {
      "image/png": "[encoded data removed]",
      "text/plain": [
       "<Figure size 432x288 with 4 Axes>"
      ]
     },
     "metadata": {
      "needs_background": "light"
     },
     "output_type": "display_data"
    },
    {
     "data": {
      "image/png": "[encoded data removed]",
      "text/plain": [
       "<Figure size 432x288 with 4 Axes>"
      ]
     },
     "metadata": {
      "needs_background": "light"
     },
     "output_type": "display_data"
    },
    {
     "name": "stdout",
     "output_type": "stream",
     "text": [
      "  e_voucher:\n",
      "    contacts: [[0.29,7.37],[0.00,27.65]]\n",
      "    contacts_err: [[0.46,12.89],[0.05,3.94]]\n",
      "    proportion_physical: [[0.12]]\n",
      "    characteristic_time: 1.00\n"
     ]
    }
   ],
   "source": [
    "#\"When you go to an outlet, approximately how many children do you come into contact with at the outlet (for example, talk to)?\",\n",
    "#\"When you go to an outlet, approximately how many adults do you come into contact with at the outlet (for example, talk to)?\",\n",
    "print(\"Average over answers\")\n",
    "voucher_contact, voucher_error = contact_matrix(\n",
    "    data = data,\n",
    "    x = \"evoucher_contact_children\",\n",
    "    y = \"evoucher_contact_adults\",\n",
    "    times = np.array(times)\n",
    ")\n",
    "voucher_contact, voucher_error = ModifyCM(voucher_contact, voucher_error , Nij)\n",
    "PolicyText(\"e_voucher\", voucher_contact, voucher_error, np.array([[0.12]]), voucher_attendance_median/60.)\n",
    "\n",
    "print(\"\")\n",
    "print(\"Average over answers per unit time\")\n",
    "voucher_contact, voucher_error = contact_matrix(\n",
    "    data = data,\n",
    "    x = \"evoucher_contact_children\",\n",
    "    y = \"evoucher_contact_adults\",\n",
    "    times = np.array(times),\n",
    "    norm = True, characteristic_time=voucher_attendance_median\n",
    ")\n",
    "voucher_contact, voucher_error = ModifyCM(voucher_contact, voucher_error , Nij)\n",
    "PolicyText(\"e_voucher\", voucher_contact, voucher_error, np.array([[0.12]]), voucher_attendance_median/60.)"
   ]
  },
  {
   "cell_type": "markdown",
   "metadata": {},
   "source": [
    "## Community center"
   ]
  },
  {
   "cell_type": "code",
   "execution_count": 42,
   "metadata": {},
   "outputs": [
    {
     "name": "stdout",
     "output_type": "stream",
     "text": [
      "(array(['Over 18 but under 60', 'Over 60', 'Under 18'], dtype=object), array([41, 25, 33]))\n",
      "[33 66]\n"
     ]
    }
   ],
   "source": [
    "#Do you ever go to a community center?\n",
    "Nij=np.unique(data[(data[\"community\"] == \"Yes\") & (data[\"sex\"] == \"Male\")][\"age\"], return_counts=True)\n",
    "print(Nij)\n",
    "Nij = np.array([Nij[1][2], Nij[1][0]+Nij[1][1]])\n",
    "print(Nij)"
   ]
  },
  {
   "cell_type": "code",
   "execution_count": 43,
   "metadata": {},
   "outputs": [
    {
     "name": "stdout",
     "output_type": "stream",
     "text": [
      "(array(['Over 18 but under 60', 'Over 60', 'Under 18'], dtype=object), array([32, 27, 27]))\n",
      "[27 59]\n"
     ]
    }
   ],
   "source": [
    "Nij=np.unique(data[(data[\"community\"] == \"Yes\") & (data[\"sex\"] == \"Female\")][\"age\"], return_counts=True)\n",
    "print(Nij)\n",
    "Nij = np.array([Nij[1][2], Nij[1][0]+Nij[1][1]])\n",
    "print(Nij)"
   ]
  },
  {
   "cell_type": "code",
   "execution_count": 44,
   "metadata": {},
   "outputs": [
    {
     "name": "stdout",
     "output_type": "stream",
     "text": [
      "(array(['Over 18 but under 60', 'Over 60', 'Under 18'], dtype=object), array([73, 52, 60]))\n",
      "[ 60 125]\n"
     ]
    }
   ],
   "source": [
    "Nij=np.unique(data[(data[\"community\"] == \"Yes\") ][\"age\"], return_counts=True)\n",
    "print(Nij)\n",
    "Nij = np.array([Nij[1][2], Nij[1][0]+Nij[1][1]])\n",
    "print(Nij)"
   ]
  },
  {
   "cell_type": "code",
   "execution_count": 45,
   "metadata": {},
   "outputs": [
    {
     "data": {
      "image/png": "[encoded data removed]",
      "text/plain": [
       "<Figure size 432x288 with 1 Axes>"
      ]
     },
     "metadata": {
      "needs_background": "light"
     },
     "output_type": "display_data"
    }
   ],
   "source": [
    "#When you go to a community center, how much time do you spend there?\n",
    "times = GetBetterTimes(data,[\"community_time\",\"community_time77\" ])\n",
    "community_attendance_mean, community_attendance_median = attendance(times)"
   ]
  },
  {
   "cell_type": "code",
   "execution_count": 46,
   "metadata": {},
   "outputs": [
    {
     "data": {
      "text/plain": [
       "(1.249099099099099, 1.0)"
      ]
     },
     "execution_count": 46,
     "metadata": {},
     "output_type": "execute_result"
    }
   ],
   "source": [
    "community_attendance_mean/60., community_attendance_median/60."
   ]
  },
  {
   "cell_type": "code",
   "execution_count": 47,
   "metadata": {},
   "outputs": [
    {
     "name": "stdout",
     "output_type": "stream",
     "text": [
      "Average over answers\n"
     ]
    },
    {
     "data": {
      "image/png": "[encoded data removed]",
      "text/plain": [
       "<Figure size 432x288 with 4 Axes>"
      ]
     },
     "metadata": {
      "needs_background": "light"
     },
     "output_type": "display_data"
    },
    {
     "name": "stdout",
     "output_type": "stream",
     "text": [
      "  communal:\n",
      "    contacts: [[4.38,6.31],[2.50,11.22]]\n",
      "    contacts_err: [[0.59,1.61],[0.37,1.13]]\n",
      "    proportion_physical: [[0.12]]\n",
      "    characteristic_time: 1.00\n",
      "  female_communal:\n",
      "    contacts: [[4.38,6.31],[2.50,11.22]]\n",
      "    contacts_err: [[0.59,1.61],[0.37,1.13]]\n",
      "    proportion_physical: [[0.12]]\n",
      "    characteristic_time: 1.00\n",
      "\n",
      "Average over answers per unit time\n"
     ]
    },
    {
     "data": {
      "image/png": "[encoded data removed]",
      "text/plain": [
       "<Figure size 432x288 with 4 Axes>"
      ]
     },
     "metadata": {
      "needs_background": "light"
     },
     "output_type": "display_data"
    },
    {
     "data": {
      "image/png": "[encoded data removed]",
      "text/plain": [
       "<Figure size 432x288 with 4 Axes>"
      ]
     },
     "metadata": {
      "needs_background": "light"
     },
     "output_type": "display_data"
    },
    {
     "name": "stdout",
     "output_type": "stream",
     "text": [
      "  communal:\n",
      "    contacts: [[3.13,5.61],[2.35,10.52]]\n",
      "    contacts_err: [[0.19,0.95],[0.32,0.98]]\n",
      "    proportion_physical: [[0.12]]\n",
      "    characteristic_time: 1.00\n",
      "  female_communal:\n",
      "    contacts: [[3.13,5.61],[2.35,10.52]]\n",
      "    contacts_err: [[0.19,0.95],[0.32,0.98]]\n",
      "    proportion_physical: [[0.12]]\n",
      "    characteristic_time: 1.00\n"
     ]
    }
   ],
   "source": [
    "#\"When you go to a community center, approximately how many children do you come into contact with at the center (for example, talk to)?\",\n",
    "#\"When you go to a community center, approximately how many adults do you come into contact with at the center (for example, talk to)?\"\n",
    "print(\"Average over answers\")\n",
    "community_contact, community_error = contact_matrix(\n",
    "    data = data,\n",
    "    x = \"community_contact_children\",\n",
    "    y = \"community_contact_adults\",\n",
    "    times = np.array(times)\n",
    ")\n",
    "community_contact, community_error = ModifyCM(community_contact, community_error , Nij)\n",
    "PolicyText(\"communal\", community_contact, community_error, np.array([[0.12]]), community_attendance_median/60.)\n",
    "PolicyText(\"female_communal\", community_contact, community_error, np.array([[0.12]]), community_attendance_median/60.)\n",
    "\n",
    "\n",
    "print(\"\")\n",
    "print(\"Average over answers per unit time\")\n",
    "\n",
    "community_contact, community_error = contact_matrix(\n",
    "    data = data,\n",
    "    x = \"community_contact_children\",\n",
    "    y = \"community_contact_adults\",\n",
    "    times = np.array(times),\n",
    "    norm = True, characteristic_time=community_attendance_median\n",
    ")\n",
    "community_contact, community_error = ModifyCM(community_contact, community_error , Nij)\n",
    "PolicyText(\"communal\", community_contact, community_error, np.array([[0.12]]), community_attendance_median/60.)\n",
    "PolicyText(\"female_communal\", community_contact, community_error, np.array([[0.12]]), community_attendance_median/60.)"
   ]
  },
  {
   "cell_type": "markdown",
   "metadata": {},
   "source": [
    "## Religious center"
   ]
  },
  {
   "cell_type": "code",
   "execution_count": 48,
   "metadata": {},
   "outputs": [
    {
     "name": "stdout",
     "output_type": "stream",
     "text": [
      "(array(['Over 18 but under 60', 'Over 60', 'Under 18'], dtype=object), array([40, 41, 26]))\n",
      "[26 81]\n"
     ]
    }
   ],
   "source": [
    "#Do you ever go to a religious meeting?\n",
    "Nij=np.unique(data[(data[\"religious\"] == \"Yes\") & (data[\"sex\"] == \"Male\")][\"age\"], return_counts=True)\n",
    "print(Nij)\n",
    "Nij = np.array([Nij[1][2], Nij[1][0]+Nij[1][1]])\n",
    "print(Nij)"
   ]
  },
  {
   "cell_type": "code",
   "execution_count": 49,
   "metadata": {},
   "outputs": [
    {
     "name": "stdout",
     "output_type": "stream",
     "text": [
      "(array(['Over 18 but under 60', 'Over 60', 'Under 18'], dtype=object), array([37, 34, 18]))\n",
      "[18 71]\n"
     ]
    }
   ],
   "source": [
    "Nij=np.unique(data[(data[\"religious\"] == \"Yes\") & (data[\"sex\"] == \"Female\")][\"age\"], return_counts=True)\n",
    "print(Nij)\n",
    "Nij = np.array([Nij[1][2], Nij[1][0]+Nij[1][1]])\n",
    "print(Nij)"
   ]
  },
  {
   "cell_type": "code",
   "execution_count": 50,
   "metadata": {},
   "outputs": [
    {
     "name": "stdout",
     "output_type": "stream",
     "text": [
      "(array(['Over 18 but under 60', 'Over 60', 'Under 18'], dtype=object), array([77, 75, 45]))\n",
      "[ 45 152]\n"
     ]
    }
   ],
   "source": [
    "Nij=np.unique(data[(data[\"religious\"] == \"Yes\") ][\"age\"], return_counts=True)\n",
    "print(Nij)\n",
    "Nij = np.array([Nij[1][2], Nij[1][0]+Nij[1][1]])\n",
    "print(Nij)"
   ]
  },
  {
   "cell_type": "code",
   "execution_count": 51,
   "metadata": {},
   "outputs": [
    {
     "data": {
      "image/png": "[encoded data removed]",
      "text/plain": [
       "<Figure size 432x288 with 1 Axes>"
      ]
     },
     "metadata": {
      "needs_background": "light"
     },
     "output_type": "display_data"
    }
   ],
   "source": [
    "#When you go to a religious meeting, how much time do you spend there?\n",
    "times = GetBetterTimes(data,[\"religious_time\",\"religious_time_77\" ])\n",
    "religious_attendance_mean, religious_attendance_median = attendance(times)"
   ]
  },
  {
   "cell_type": "code",
   "execution_count": 52,
   "metadata": {},
   "outputs": [
    {
     "data": {
      "text/plain": [
       "(1.1891156462585035, 1.0)"
      ]
     },
     "execution_count": 52,
     "metadata": {},
     "output_type": "execute_result"
    }
   ],
   "source": [
    "religious_attendance_mean/60., religious_attendance_median/60."
   ]
  },
  {
   "cell_type": "code",
   "execution_count": 53,
   "metadata": {},
   "outputs": [
    {
     "name": "stdout",
     "output_type": "stream",
     "text": [
      "Average over answers\n"
     ]
    },
    {
     "data": {
      "image/png": "[encoded data removed]",
      "text/plain": [
       "<Figure size 432x288 with 4 Axes>"
      ]
     },
     "metadata": {
      "needs_background": "light"
     },
     "output_type": "display_data"
    },
    {
     "name": "stdout",
     "output_type": "stream",
     "text": [
      "  religious:\n",
      "    contacts: [[2.20,14.42],[0.88,16.02]]\n",
      "    contacts_err: [[0.23,2.05],[0.10,1.18]]\n",
      "    proportion_physical: [[0.12]]\n",
      "    characteristic_time: 1.00\n",
      "\n",
      "Average over answers per unit time\n"
     ]
    },
    {
     "data": {
      "image/png": "[encoded data removed]",
      "text/plain": [
       "<Figure size 432x288 with 4 Axes>"
      ]
     },
     "metadata": {
      "needs_background": "light"
     },
     "output_type": "display_data"
    },
    {
     "data": {
      "image/png": "[encoded data removed]",
      "text/plain": [
       "<Figure size 432x288 with 4 Axes>"
      ]
     },
     "metadata": {
      "needs_background": "light"
     },
     "output_type": "display_data"
    },
    {
     "name": "stdout",
     "output_type": "stream",
     "text": [
      "  religious:\n",
      "    contacts: [[2.20,12.82],[0.88,16.02]]\n",
      "    contacts_err: [[0.23,1.59],[0.11,1.10]]\n",
      "    proportion_physical: [[0.12]]\n",
      "    characteristic_time: 1.00\n"
     ]
    }
   ],
   "source": [
    "#\"When you go to a religious meeting, approximately how many children do you come into contact with at the meeting (for example, talk to)?\",\n",
    "#\"When you go to religious meeting, approximately how many adults do you come into contact with at the meeting (for example, talk to)?\"\n",
    "print(\"Average over answers\")\n",
    "religious_contact, religious_error = contact_matrix(\n",
    "    data = data,\n",
    "    x = \"religious_contact_children\",\n",
    "    y = \"religious_contact_adults\",\n",
    "    times = np.array(times)\n",
    ")\n",
    "\n",
    "religious_contact, religious_error = ModifyCM(religious_contact, religious_error , Nij)\n",
    "PolicyText(\"religious\", religious_contact, religious_error, np.array([[0.12]]), religious_attendance_median/60.)\n",
    "\n",
    "print(\"\")\n",
    "print(\"Average over answers per unit time\")\n",
    "\n",
    "religious_contact, religious_error = contact_matrix(\n",
    "    data = data,\n",
    "    x = \"religious_contact_children\",\n",
    "    y = \"religious_contact_adults\",\n",
    "    times = np.array(times),\n",
    "    norm = True, characteristic_time=religious_attendance_median\n",
    ")\n",
    "religious_contact, religious_error = ModifyCM(religious_contact, religious_error , Nij)\n",
    "PolicyText(\"religious\", religious_contact, religious_error, np.array([[0.12]]), religious_attendance_median/60.)"
   ]
  },
  {
   "cell_type": "markdown",
   "metadata": {},
   "source": [
    "## Hand pump and latrine"
   ]
  },
  {
   "cell_type": "code",
   "execution_count": 54,
   "metadata": {},
   "outputs": [
    {
     "name": "stdout",
     "output_type": "stream",
     "text": [
      "(array(['Over 18 but under 60', 'Over 60', 'Under 18'], dtype=object), array([115, 102,  92]))\n",
      "[ 92 217]\n"
     ]
    }
   ],
   "source": [
    "Nij=np.unique(data[(data[\"pump_children\"] != None) ][\"age\"], return_counts=True)\n",
    "print(Nij)\n",
    "Nij = np.array([Nij[1][2], Nij[1][0]+Nij[1][1]])\n",
    "print(Nij)"
   ]
  },
  {
   "cell_type": "code",
   "execution_count": 55,
   "metadata": {},
   "outputs": [
    {
     "data": {
      "image/png": "[encoded data removed]",
      "text/plain": [
       "<Figure size 432x288 with 1 Axes>"
      ]
     },
     "metadata": {
      "needs_background": "light"
     },
     "output_type": "display_data"
    }
   ],
   "source": [
    "#When you go to a water pump or latrine, how much time do you spend there?\n",
    "times = GetBetterTimes(data,[\"pump_time\",\"pump_time77\" ])\n",
    "pump_latrine_attendance_mean, pump_latrine_attendance_median = attendance(times)"
   ]
  },
  {
   "cell_type": "code",
   "execution_count": 56,
   "metadata": {},
   "outputs": [
    {
     "data": {
      "text/plain": [
       "(0.7146825396825397, 0.5416666666666666)"
      ]
     },
     "execution_count": 56,
     "metadata": {},
     "output_type": "execute_result"
    }
   ],
   "source": [
    "pump_latrine_attendance_mean/60., pump_latrine_attendance_median/60. "
   ]
  },
  {
   "cell_type": "code",
   "execution_count": 57,
   "metadata": {},
   "outputs": [
    {
     "name": "stdout",
     "output_type": "stream",
     "text": [
      "Average over answers\n"
     ]
    },
    {
     "data": {
      "image/png": "[encoded data removed]",
      "text/plain": [
       "<Figure size 432x288 with 4 Axes>"
      ]
     },
     "metadata": {
      "needs_background": "light"
     },
     "output_type": "display_data"
    },
    {
     "name": "stdout",
     "output_type": "stream",
     "text": [
      "  pump_latrine:\n",
      "    contacts: [[2.30,4.37],[1.72,7.29]]\n",
      "    contacts_err: [[0.26,0.84],[0.31,0.30]]\n",
      "    proportion_physical: [[0.02]]\n",
      "    characteristic_time: 0.54\n",
      "\n",
      "Average over answers per unit time\n"
     ]
    },
    {
     "data": {
      "image/png": "[encoded data removed]",
      "text/plain": [
       "<Figure size 432x288 with 4 Axes>"
      ]
     },
     "metadata": {
      "needs_background": "light"
     },
     "output_type": "display_data"
    },
    {
     "data": {
      "image/png": "[encoded data removed]",
      "text/plain": [
       "<Figure size 432x288 with 4 Axes>"
      ]
     },
     "metadata": {
      "needs_background": "light"
     },
     "output_type": "display_data"
    },
    {
     "name": "stdout",
     "output_type": "stream",
     "text": [
      "  pump_latrine:\n",
      "    contacts: [[2.49,4.74],[1.76,7.11]]\n",
      "    contacts_err: [[0.34,0.96],[0.17,0.75]]\n",
      "    proportion_physical: [[0.02]]\n",
      "    characteristic_time: 0.54\n"
     ]
    }
   ],
   "source": [
    "#\"When you go to a water pump or latrine, approximately how many children do you come into contact with(for example, talk to)?\",\n",
    "#\"When you go to water pump or latrine, approximately how many adults do you come into contact with(for example, talk to)?\"\n",
    "print(\"Average over answers\")\n",
    "pump_latrine_contact, pump_latrine_error = contact_matrix(\n",
    "    data = data,\n",
    "    x = \"pump_children\",\n",
    "    y = \"pump_adults\",\n",
    "    times = np.array(times)\n",
    ")\n",
    "\n",
    "pump_latrine_contact, pump_latrine_error = ModifyCM(pump_latrine_contact, pump_latrine_error , Nij)\n",
    "PolicyText(\"pump_latrine\", pump_latrine_contact, pump_latrine_error, np.array([[0.02]]), pump_latrine_attendance_median/60.)\n",
    "\n",
    "\n",
    "print(\"\")\n",
    "print(\"Average over answers per unit time\")\n",
    "pump_latrine_contact, pump_latrine_error = contact_matrix(\n",
    "    data = data,\n",
    "    x = \"pump_children\",\n",
    "    y = \"pump_adults\",\n",
    "    times = np.array(times),\n",
    "    norm = True, characteristic_time=pump_latrine_attendance_median\n",
    ")\n",
    "pump_latrine_contact, pump_latrine_error = ModifyCM(pump_latrine_contact, pump_latrine_error , Nij)\n",
    "PolicyText(\"pump_latrine\", pump_latrine_contact, pump_latrine_error, np.array([[0.02]]), pump_latrine_attendance_median/60.)"
   ]
  },
  {
   "cell_type": "code",
   "execution_count": null,
   "metadata": {},
   "outputs": [],
   "source": []
  }
 ],
 "metadata": {
  "kernelspec": {
   "display_name": "Python 3 (ipykernel)",
   "language": "python",
   "name": "python3"
  },
  "language_info": {
   "codemirror_mode": {
    "name": "ipython",
    "version": 3
   },
   "file_extension": ".py",
   "mimetype": "text/x-python",
   "name": "python",
   "nbconvert_exporter": "python",
   "pygments_lexer": "ipython3",
   "version": "3.8.10"
  }
 },
 "nbformat": 4,
 "nbformat_minor": 4
}
